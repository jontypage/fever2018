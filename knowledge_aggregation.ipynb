{
 "cells": [
  {
   "cell_type": "code",
   "execution_count": 61,
   "metadata": {},
   "outputs": [],
   "source": [
    "import pandas as pd\n",
    "from tqdm import tqdm\n",
    "\n",
    "hypothesis_file = 'data/fever/train50-truncated.hypothesis'\n",
    "premise_file = 'data/fever/train50-truncated.premise'\n",
    "label_file = 'data/fever/train50-truncated.label'\n",
    "index_file = 'data/fever/train50-truncated.index'\n",
    "logprobs_file = 'finetuning-roberta/outputs_parameter_tuning/params1/train50-truncated-finetuned-roberta-params1-logprobs'\n",
    "decision_file = 'finetuning-roberta/outputs_parameter_tuning/params1/train50-truncated-finetuned-roberta-params1-results'\n",
    "\n",
    "hypothesis_fp = open(hypothesis_file, \"r\")\n",
    "premise_fp = open(premise_file, \"r\")\n",
    "label_fp = open(label_file, \"r\")\n",
    "index_fp = open(index_file, \"r\")\n",
    "logprobs_fp = open(logprobs_file, \"r\")\n",
    "decision_fp = open(decision_file, \"r\")"
   ]
  },
  {
   "cell_type": "code",
   "execution_count": 62,
   "metadata": {},
   "outputs": [
    {
     "name": "stderr",
     "output_type": "stream",
     "text": [
      "100%|██████████| 3000039/3000039 [00:09<00:00, 311582.80it/s]\n"
     ]
    }
   ],
   "source": [
    "logprobs_hdr = logprobs_fp.readline()\n",
    "logprobs = []\n",
    "for output in tqdm(logprobs_fp.readlines()):\n",
    "    output = output.rstrip().split()\n",
    "    if len(output)==4:\n",
    "        probs = [float(output[1][1:]), float(output[2]), float(output[3][:-1])]\n",
    "    elif len(output)==5 and output[1]=='[':\n",
    "        probs = [float(output[2]), float(output[3]), float(output[4][:-1])]\n",
    "    elif len(output)==5 and output[4]==']':\n",
    "        probs = [float(output[1][1:]), float(output[2]), float(output[3])]\n",
    "    elif len(output)==6:\n",
    "        probs = [float(output[2]), float(output[3]), float(output[4])]\n",
    "    logprobs.append(probs)"
   ]
  },
  {
   "cell_type": "code",
   "execution_count": 63,
   "metadata": {},
   "outputs": [],
   "source": [
    "logprobs = pd.DataFrame(logprobs)"
   ]
  },
  {
   "cell_type": "code",
   "execution_count": 64,
   "metadata": {},
   "outputs": [
    {
     "name": "stderr",
     "output_type": "stream",
     "text": [
      "100%|██████████| 9797581/9797581 [00:18<00:00, 528499.64it/s] \n"
     ]
    }
   ],
   "source": [
    "index = []\n",
    "for output in tqdm(index_fp.readlines()):\n",
    "    output = output.rstrip().split()\n",
    "    index.append(output)"
   ]
  },
  {
   "cell_type": "code",
   "execution_count": 65,
   "metadata": {},
   "outputs": [],
   "source": [
    "index = pd.DataFrame(index)"
   ]
  },
  {
   "cell_type": "code",
   "execution_count": 66,
   "metadata": {
    "scrolled": true
   },
   "outputs": [],
   "source": [
    "data = pd.concat([index, logprobs], axis=1, ignore_index=True)"
   ]
  },
  {
   "cell_type": "code",
   "execution_count": 67,
   "metadata": {},
   "outputs": [],
   "source": [
    "data = data.drop(1, 1)\n",
    "data = data.drop(2, 1)\n",
    "data = data.drop(3, 1)"
   ]
  },
  {
   "cell_type": "code",
   "execution_count": 68,
   "metadata": {
    "scrolled": true
   },
   "outputs": [],
   "source": [
    "data.columns = ['ids', 'supports', 'neutral', 'refutes']"
   ]
  },
  {
   "cell_type": "code",
   "execution_count": 69,
   "metadata": {},
   "outputs": [],
   "source": [
    "data['claim_ids'] = data.groupby('ids').cumcount()\n",
    "result = data.pivot(index='ids', columns='claim_ids')"
   ]
  },
  {
   "cell_type": "code",
   "execution_count": 70,
   "metadata": {
    "scrolled": true
   },
   "outputs": [
    {
     "data": {
      "text/html": [
       "<div>\n",
       "<style scoped>\n",
       "    .dataframe tbody tr th:only-of-type {\n",
       "        vertical-align: middle;\n",
       "    }\n",
       "\n",
       "    .dataframe tbody tr th {\n",
       "        vertical-align: top;\n",
       "    }\n",
       "\n",
       "    .dataframe thead tr th {\n",
       "        text-align: left;\n",
       "    }\n",
       "\n",
       "    .dataframe thead tr:last-of-type th {\n",
       "        text-align: right;\n",
       "    }\n",
       "</style>\n",
       "<table border=\"1\" class=\"dataframe\">\n",
       "  <thead>\n",
       "    <tr>\n",
       "      <th></th>\n",
       "      <th colspan=\"10\" halign=\"left\">supports</th>\n",
       "      <th>...</th>\n",
       "      <th colspan=\"10\" halign=\"left\">refutes</th>\n",
       "    </tr>\n",
       "    <tr>\n",
       "      <th>claim_ids</th>\n",
       "      <th>0</th>\n",
       "      <th>1</th>\n",
       "      <th>2</th>\n",
       "      <th>3</th>\n",
       "      <th>4</th>\n",
       "      <th>5</th>\n",
       "      <th>6</th>\n",
       "      <th>7</th>\n",
       "      <th>8</th>\n",
       "      <th>9</th>\n",
       "      <th>...</th>\n",
       "      <th>353</th>\n",
       "      <th>354</th>\n",
       "      <th>355</th>\n",
       "      <th>356</th>\n",
       "      <th>357</th>\n",
       "      <th>358</th>\n",
       "      <th>359</th>\n",
       "      <th>360</th>\n",
       "      <th>361</th>\n",
       "      <th>362</th>\n",
       "    </tr>\n",
       "    <tr>\n",
       "      <th>ids</th>\n",
       "      <th></th>\n",
       "      <th></th>\n",
       "      <th></th>\n",
       "      <th></th>\n",
       "      <th></th>\n",
       "      <th></th>\n",
       "      <th></th>\n",
       "      <th></th>\n",
       "      <th></th>\n",
       "      <th></th>\n",
       "      <th></th>\n",
       "      <th></th>\n",
       "      <th></th>\n",
       "      <th></th>\n",
       "      <th></th>\n",
       "      <th></th>\n",
       "      <th></th>\n",
       "      <th></th>\n",
       "      <th></th>\n",
       "      <th></th>\n",
       "      <th></th>\n",
       "    </tr>\n",
       "  </thead>\n",
       "  <tbody>\n",
       "    <tr>\n",
       "      <td>10</td>\n",
       "      <td>NaN</td>\n",
       "      <td>NaN</td>\n",
       "      <td>NaN</td>\n",
       "      <td>NaN</td>\n",
       "      <td>NaN</td>\n",
       "      <td>NaN</td>\n",
       "      <td>NaN</td>\n",
       "      <td>NaN</td>\n",
       "      <td>NaN</td>\n",
       "      <td>NaN</td>\n",
       "      <td>...</td>\n",
       "      <td>NaN</td>\n",
       "      <td>NaN</td>\n",
       "      <td>NaN</td>\n",
       "      <td>NaN</td>\n",
       "      <td>NaN</td>\n",
       "      <td>NaN</td>\n",
       "      <td>NaN</td>\n",
       "      <td>NaN</td>\n",
       "      <td>NaN</td>\n",
       "      <td>NaN</td>\n",
       "    </tr>\n",
       "    <tr>\n",
       "      <td>100002</td>\n",
       "      <td>NaN</td>\n",
       "      <td>NaN</td>\n",
       "      <td>NaN</td>\n",
       "      <td>NaN</td>\n",
       "      <td>NaN</td>\n",
       "      <td>NaN</td>\n",
       "      <td>NaN</td>\n",
       "      <td>NaN</td>\n",
       "      <td>NaN</td>\n",
       "      <td>NaN</td>\n",
       "      <td>...</td>\n",
       "      <td>NaN</td>\n",
       "      <td>NaN</td>\n",
       "      <td>NaN</td>\n",
       "      <td>NaN</td>\n",
       "      <td>NaN</td>\n",
       "      <td>NaN</td>\n",
       "      <td>NaN</td>\n",
       "      <td>NaN</td>\n",
       "      <td>NaN</td>\n",
       "      <td>NaN</td>\n",
       "    </tr>\n",
       "    <tr>\n",
       "      <td>100004</td>\n",
       "      <td>-2.249075</td>\n",
       "      <td>-2.928968</td>\n",
       "      <td>-2.511117</td>\n",
       "      <td>-3.189722</td>\n",
       "      <td>-3.207441</td>\n",
       "      <td>-3.200376</td>\n",
       "      <td>-3.142753</td>\n",
       "      <td>-3.202490</td>\n",
       "      <td>-3.227860</td>\n",
       "      <td>-3.197501</td>\n",
       "      <td>...</td>\n",
       "      <td>NaN</td>\n",
       "      <td>NaN</td>\n",
       "      <td>NaN</td>\n",
       "      <td>NaN</td>\n",
       "      <td>NaN</td>\n",
       "      <td>NaN</td>\n",
       "      <td>NaN</td>\n",
       "      <td>NaN</td>\n",
       "      <td>NaN</td>\n",
       "      <td>NaN</td>\n",
       "    </tr>\n",
       "    <tr>\n",
       "      <td>100005</td>\n",
       "      <td>NaN</td>\n",
       "      <td>NaN</td>\n",
       "      <td>NaN</td>\n",
       "      <td>NaN</td>\n",
       "      <td>NaN</td>\n",
       "      <td>NaN</td>\n",
       "      <td>NaN</td>\n",
       "      <td>NaN</td>\n",
       "      <td>NaN</td>\n",
       "      <td>NaN</td>\n",
       "      <td>...</td>\n",
       "      <td>NaN</td>\n",
       "      <td>NaN</td>\n",
       "      <td>NaN</td>\n",
       "      <td>NaN</td>\n",
       "      <td>NaN</td>\n",
       "      <td>NaN</td>\n",
       "      <td>NaN</td>\n",
       "      <td>NaN</td>\n",
       "      <td>NaN</td>\n",
       "      <td>NaN</td>\n",
       "    </tr>\n",
       "    <tr>\n",
       "      <td>100006</td>\n",
       "      <td>NaN</td>\n",
       "      <td>NaN</td>\n",
       "      <td>NaN</td>\n",
       "      <td>NaN</td>\n",
       "      <td>NaN</td>\n",
       "      <td>NaN</td>\n",
       "      <td>NaN</td>\n",
       "      <td>NaN</td>\n",
       "      <td>NaN</td>\n",
       "      <td>NaN</td>\n",
       "      <td>...</td>\n",
       "      <td>NaN</td>\n",
       "      <td>NaN</td>\n",
       "      <td>NaN</td>\n",
       "      <td>NaN</td>\n",
       "      <td>NaN</td>\n",
       "      <td>NaN</td>\n",
       "      <td>NaN</td>\n",
       "      <td>NaN</td>\n",
       "      <td>NaN</td>\n",
       "      <td>NaN</td>\n",
       "    </tr>\n",
       "    <tr>\n",
       "      <td>100008</td>\n",
       "      <td>-3.249417</td>\n",
       "      <td>-3.236319</td>\n",
       "      <td>-3.258230</td>\n",
       "      <td>-3.270654</td>\n",
       "      <td>-3.232797</td>\n",
       "      <td>-3.257920</td>\n",
       "      <td>-3.253166</td>\n",
       "      <td>-3.256280</td>\n",
       "      <td>-3.252097</td>\n",
       "      <td>-3.267854</td>\n",
       "      <td>...</td>\n",
       "      <td>NaN</td>\n",
       "      <td>NaN</td>\n",
       "      <td>NaN</td>\n",
       "      <td>NaN</td>\n",
       "      <td>NaN</td>\n",
       "      <td>NaN</td>\n",
       "      <td>NaN</td>\n",
       "      <td>NaN</td>\n",
       "      <td>NaN</td>\n",
       "      <td>NaN</td>\n",
       "    </tr>\n",
       "    <tr>\n",
       "      <td>100009</td>\n",
       "      <td>NaN</td>\n",
       "      <td>NaN</td>\n",
       "      <td>NaN</td>\n",
       "      <td>NaN</td>\n",
       "      <td>NaN</td>\n",
       "      <td>NaN</td>\n",
       "      <td>NaN</td>\n",
       "      <td>NaN</td>\n",
       "      <td>NaN</td>\n",
       "      <td>NaN</td>\n",
       "      <td>...</td>\n",
       "      <td>NaN</td>\n",
       "      <td>NaN</td>\n",
       "      <td>NaN</td>\n",
       "      <td>NaN</td>\n",
       "      <td>NaN</td>\n",
       "      <td>NaN</td>\n",
       "      <td>NaN</td>\n",
       "      <td>NaN</td>\n",
       "      <td>NaN</td>\n",
       "      <td>NaN</td>\n",
       "    </tr>\n",
       "    <tr>\n",
       "      <td>10001</td>\n",
       "      <td>NaN</td>\n",
       "      <td>NaN</td>\n",
       "      <td>NaN</td>\n",
       "      <td>NaN</td>\n",
       "      <td>NaN</td>\n",
       "      <td>NaN</td>\n",
       "      <td>NaN</td>\n",
       "      <td>NaN</td>\n",
       "      <td>NaN</td>\n",
       "      <td>NaN</td>\n",
       "      <td>...</td>\n",
       "      <td>NaN</td>\n",
       "      <td>NaN</td>\n",
       "      <td>NaN</td>\n",
       "      <td>NaN</td>\n",
       "      <td>NaN</td>\n",
       "      <td>NaN</td>\n",
       "      <td>NaN</td>\n",
       "      <td>NaN</td>\n",
       "      <td>NaN</td>\n",
       "      <td>NaN</td>\n",
       "    </tr>\n",
       "    <tr>\n",
       "      <td>100014</td>\n",
       "      <td>NaN</td>\n",
       "      <td>NaN</td>\n",
       "      <td>NaN</td>\n",
       "      <td>NaN</td>\n",
       "      <td>NaN</td>\n",
       "      <td>NaN</td>\n",
       "      <td>NaN</td>\n",
       "      <td>NaN</td>\n",
       "      <td>NaN</td>\n",
       "      <td>NaN</td>\n",
       "      <td>...</td>\n",
       "      <td>NaN</td>\n",
       "      <td>NaN</td>\n",
       "      <td>NaN</td>\n",
       "      <td>NaN</td>\n",
       "      <td>NaN</td>\n",
       "      <td>NaN</td>\n",
       "      <td>NaN</td>\n",
       "      <td>NaN</td>\n",
       "      <td>NaN</td>\n",
       "      <td>NaN</td>\n",
       "    </tr>\n",
       "    <tr>\n",
       "      <td>100015</td>\n",
       "      <td>-3.206785</td>\n",
       "      <td>-3.215637</td>\n",
       "      <td>-3.228110</td>\n",
       "      <td>-3.224283</td>\n",
       "      <td>-3.215745</td>\n",
       "      <td>-3.231602</td>\n",
       "      <td>-3.209411</td>\n",
       "      <td>-3.236177</td>\n",
       "      <td>-3.235633</td>\n",
       "      <td>-3.231221</td>\n",
       "      <td>...</td>\n",
       "      <td>NaN</td>\n",
       "      <td>NaN</td>\n",
       "      <td>NaN</td>\n",
       "      <td>NaN</td>\n",
       "      <td>NaN</td>\n",
       "      <td>NaN</td>\n",
       "      <td>NaN</td>\n",
       "      <td>NaN</td>\n",
       "      <td>NaN</td>\n",
       "      <td>NaN</td>\n",
       "    </tr>\n",
       "  </tbody>\n",
       "</table>\n",
       "<p>10 rows × 1089 columns</p>\n",
       "</div>"
      ],
      "text/plain": [
       "           supports                                                    \\\n",
       "claim_ids       0         1         2         3         4         5     \n",
       "ids                                                                     \n",
       "10              NaN       NaN       NaN       NaN       NaN       NaN   \n",
       "100002          NaN       NaN       NaN       NaN       NaN       NaN   \n",
       "100004    -2.249075 -2.928968 -2.511117 -3.189722 -3.207441 -3.200376   \n",
       "100005          NaN       NaN       NaN       NaN       NaN       NaN   \n",
       "100006          NaN       NaN       NaN       NaN       NaN       NaN   \n",
       "100008    -3.249417 -3.236319 -3.258230 -3.270654 -3.232797 -3.257920   \n",
       "100009          NaN       NaN       NaN       NaN       NaN       NaN   \n",
       "10001           NaN       NaN       NaN       NaN       NaN       NaN   \n",
       "100014          NaN       NaN       NaN       NaN       NaN       NaN   \n",
       "100015    -3.206785 -3.215637 -3.228110 -3.224283 -3.215745 -3.231602   \n",
       "\n",
       "                                                   ... refutes              \\\n",
       "claim_ids       6         7         8         9    ...     353 354 355 356   \n",
       "ids                                                ...                       \n",
       "10              NaN       NaN       NaN       NaN  ...     NaN NaN NaN NaN   \n",
       "100002          NaN       NaN       NaN       NaN  ...     NaN NaN NaN NaN   \n",
       "100004    -3.142753 -3.202490 -3.227860 -3.197501  ...     NaN NaN NaN NaN   \n",
       "100005          NaN       NaN       NaN       NaN  ...     NaN NaN NaN NaN   \n",
       "100006          NaN       NaN       NaN       NaN  ...     NaN NaN NaN NaN   \n",
       "100008    -3.253166 -3.256280 -3.252097 -3.267854  ...     NaN NaN NaN NaN   \n",
       "100009          NaN       NaN       NaN       NaN  ...     NaN NaN NaN NaN   \n",
       "10001           NaN       NaN       NaN       NaN  ...     NaN NaN NaN NaN   \n",
       "100014          NaN       NaN       NaN       NaN  ...     NaN NaN NaN NaN   \n",
       "100015    -3.209411 -3.236177 -3.235633 -3.231221  ...     NaN NaN NaN NaN   \n",
       "\n",
       "                                   \n",
       "claim_ids 357 358 359 360 361 362  \n",
       "ids                                \n",
       "10        NaN NaN NaN NaN NaN NaN  \n",
       "100002    NaN NaN NaN NaN NaN NaN  \n",
       "100004    NaN NaN NaN NaN NaN NaN  \n",
       "100005    NaN NaN NaN NaN NaN NaN  \n",
       "100006    NaN NaN NaN NaN NaN NaN  \n",
       "100008    NaN NaN NaN NaN NaN NaN  \n",
       "100009    NaN NaN NaN NaN NaN NaN  \n",
       "10001     NaN NaN NaN NaN NaN NaN  \n",
       "100014    NaN NaN NaN NaN NaN NaN  \n",
       "100015    NaN NaN NaN NaN NaN NaN  \n",
       "\n",
       "[10 rows x 1089 columns]"
      ]
     },
     "execution_count": 70,
     "metadata": {},
     "output_type": "execute_result"
    }
   ],
   "source": [
    "result.head(10)"
   ]
  },
  {
   "cell_type": "code",
   "execution_count": 71,
   "metadata": {},
   "outputs": [],
   "source": [
    "import pandas as pd\n",
    "from tqdm import tqdm\n",
    "\n",
    "hypothesis_file = 'data/fever/train50-truncated.hypothesis'\n",
    "premise_file = 'data/fever/train50-truncated.premise'\n",
    "label_file = 'data/fever/train50-truncated.label'\n",
    "index_file = 'data/fever/train50-truncated.index'\n",
    "logprobs_file = 'finetuning-roberta/outputs_parameter_tuning/params1/train50-truncated-finetuned-roberta-params1-logprobs'\n",
    "decision_file = 'finetuning-roberta/outputs_parameter_tuning/params1/train50-truncated-finetuned-roberta-params1-results'\n",
    "\n",
    "hypothesis_fp = open(hypothesis_file, \"r\")\n",
    "premise_fp = open(premise_file, \"r\")\n",
    "label_fp = open(label_file, \"r\")\n",
    "index_fp = open(index_file, \"r\")\n",
    "logprobs_fp = open(logprobs_file, \"r\")\n",
    "decision_fp = open(decision_file, \"r\")"
   ]
  },
  {
   "cell_type": "code",
   "execution_count": 72,
   "metadata": {},
   "outputs": [
    {
     "name": "stderr",
     "output_type": "stream",
     "text": [
      "100%|██████████| 3000039/3000039 [00:09<00:00, 304630.65it/s]\n"
     ]
    }
   ],
   "source": [
    "logprobs_hdr = logprobs_fp.readline()\n",
    "logprobs = []\n",
    "for output in tqdm(logprobs_fp.readlines()):\n",
    "    output = output.rstrip().split()\n",
    "    if len(output)==4:\n",
    "        probs = [float(output[1][1:]), float(output[2]), float(output[3][:-1])]\n",
    "    elif len(output)==5 and output[1]=='[':\n",
    "        probs = [float(output[2]), float(output[3]), float(output[4][:-1])]\n",
    "    elif len(output)==5 and output[4]==']':\n",
    "        probs = [float(output[1][1:]), float(output[2]), float(output[3])]\n",
    "    elif len(output)==6:\n",
    "        probs = [float(output[2]), float(output[3]), float(output[4])]\n",
    "    logprobs.append(probs)"
   ]
  },
  {
   "cell_type": "code",
   "execution_count": 73,
   "metadata": {},
   "outputs": [],
   "source": [
    "logprobs = pd.DataFrame(logprobs)"
   ]
  },
  {
   "cell_type": "code",
   "execution_count": 74,
   "metadata": {},
   "outputs": [
    {
     "name": "stderr",
     "output_type": "stream",
     "text": [
      "100%|██████████| 9797581/9797581 [00:19<00:00, 511151.11it/s] \n"
     ]
    }
   ],
   "source": [
    "index = []\n",
    "for output in tqdm(index_fp.readlines()):\n",
    "    output = output.rstrip().split()\n",
    "    index.append(output)\n",
    "index = index[:len(logprobs)]"
   ]
  },
  {
   "cell_type": "code",
   "execution_count": 75,
   "metadata": {},
   "outputs": [],
   "source": [
    "index = pd.DataFrame(index)"
   ]
  },
  {
   "cell_type": "code",
   "execution_count": 76,
   "metadata": {
    "scrolled": true
   },
   "outputs": [],
   "source": [
    "data = pd.concat([index, logprobs], axis=1, ignore_index=True)"
   ]
  },
  {
   "cell_type": "code",
   "execution_count": 77,
   "metadata": {},
   "outputs": [],
   "source": [
    "data = data.drop(1, 1)\n",
    "data = data.drop(2, 1)\n",
    "data = data.drop(3, 1)"
   ]
  },
  {
   "cell_type": "code",
   "execution_count": 78,
   "metadata": {
    "scrolled": true
   },
   "outputs": [],
   "source": [
    "data.columns = ['ids', 'supports', 'neutral', 'refutes']"
   ]
  },
  {
   "cell_type": "code",
   "execution_count": 79,
   "metadata": {},
   "outputs": [],
   "source": [
    "data['claim_ids'] = data.groupby('ids').cumcount()\n",
    "result = data.pivot(index='ids', columns='claim_ids')"
   ]
  },
  {
   "cell_type": "code",
   "execution_count": 80,
   "metadata": {
    "scrolled": false
   },
   "outputs": [
    {
     "data": {
      "text/html": [
       "<div>\n",
       "<style scoped>\n",
       "    .dataframe tbody tr th:only-of-type {\n",
       "        vertical-align: middle;\n",
       "    }\n",
       "\n",
       "    .dataframe tbody tr th {\n",
       "        vertical-align: top;\n",
       "    }\n",
       "\n",
       "    .dataframe thead tr th {\n",
       "        text-align: left;\n",
       "    }\n",
       "\n",
       "    .dataframe thead tr:last-of-type th {\n",
       "        text-align: right;\n",
       "    }\n",
       "</style>\n",
       "<table border=\"1\" class=\"dataframe\">\n",
       "  <thead>\n",
       "    <tr>\n",
       "      <th></th>\n",
       "      <th colspan=\"10\" halign=\"left\">supports</th>\n",
       "      <th>...</th>\n",
       "      <th colspan=\"10\" halign=\"left\">refutes</th>\n",
       "    </tr>\n",
       "    <tr>\n",
       "      <th>claim_ids</th>\n",
       "      <th>0</th>\n",
       "      <th>1</th>\n",
       "      <th>2</th>\n",
       "      <th>3</th>\n",
       "      <th>4</th>\n",
       "      <th>5</th>\n",
       "      <th>6</th>\n",
       "      <th>7</th>\n",
       "      <th>8</th>\n",
       "      <th>9</th>\n",
       "      <th>...</th>\n",
       "      <th>353</th>\n",
       "      <th>354</th>\n",
       "      <th>355</th>\n",
       "      <th>356</th>\n",
       "      <th>357</th>\n",
       "      <th>358</th>\n",
       "      <th>359</th>\n",
       "      <th>360</th>\n",
       "      <th>361</th>\n",
       "      <th>362</th>\n",
       "    </tr>\n",
       "    <tr>\n",
       "      <th>ids</th>\n",
       "      <th></th>\n",
       "      <th></th>\n",
       "      <th></th>\n",
       "      <th></th>\n",
       "      <th></th>\n",
       "      <th></th>\n",
       "      <th></th>\n",
       "      <th></th>\n",
       "      <th></th>\n",
       "      <th></th>\n",
       "      <th></th>\n",
       "      <th></th>\n",
       "      <th></th>\n",
       "      <th></th>\n",
       "      <th></th>\n",
       "      <th></th>\n",
       "      <th></th>\n",
       "      <th></th>\n",
       "      <th></th>\n",
       "      <th></th>\n",
       "      <th></th>\n",
       "    </tr>\n",
       "  </thead>\n",
       "  <tbody>\n",
       "    <tr>\n",
       "      <td>100004</td>\n",
       "      <td>-2.249075</td>\n",
       "      <td>-2.928968</td>\n",
       "      <td>-2.511117</td>\n",
       "      <td>-3.189722</td>\n",
       "      <td>-3.207441</td>\n",
       "      <td>-3.200376</td>\n",
       "      <td>-3.142753</td>\n",
       "      <td>-3.202490</td>\n",
       "      <td>-3.227860</td>\n",
       "      <td>-3.197501</td>\n",
       "      <td>...</td>\n",
       "      <td>NaN</td>\n",
       "      <td>NaN</td>\n",
       "      <td>NaN</td>\n",
       "      <td>NaN</td>\n",
       "      <td>NaN</td>\n",
       "      <td>NaN</td>\n",
       "      <td>NaN</td>\n",
       "      <td>NaN</td>\n",
       "      <td>NaN</td>\n",
       "      <td>NaN</td>\n",
       "    </tr>\n",
       "    <tr>\n",
       "      <td>100008</td>\n",
       "      <td>-3.249417</td>\n",
       "      <td>-3.236319</td>\n",
       "      <td>-3.258230</td>\n",
       "      <td>-3.270654</td>\n",
       "      <td>-3.232797</td>\n",
       "      <td>-3.257920</td>\n",
       "      <td>-3.253166</td>\n",
       "      <td>-3.256280</td>\n",
       "      <td>-3.252097</td>\n",
       "      <td>-3.267854</td>\n",
       "      <td>...</td>\n",
       "      <td>NaN</td>\n",
       "      <td>NaN</td>\n",
       "      <td>NaN</td>\n",
       "      <td>NaN</td>\n",
       "      <td>NaN</td>\n",
       "      <td>NaN</td>\n",
       "      <td>NaN</td>\n",
       "      <td>NaN</td>\n",
       "      <td>NaN</td>\n",
       "      <td>NaN</td>\n",
       "    </tr>\n",
       "    <tr>\n",
       "      <td>100015</td>\n",
       "      <td>-3.206785</td>\n",
       "      <td>-3.215637</td>\n",
       "      <td>-3.228110</td>\n",
       "      <td>-3.224283</td>\n",
       "      <td>-3.215745</td>\n",
       "      <td>-3.231602</td>\n",
       "      <td>-3.209411</td>\n",
       "      <td>-3.236177</td>\n",
       "      <td>-3.235633</td>\n",
       "      <td>-3.231221</td>\n",
       "      <td>...</td>\n",
       "      <td>NaN</td>\n",
       "      <td>NaN</td>\n",
       "      <td>NaN</td>\n",
       "      <td>NaN</td>\n",
       "      <td>NaN</td>\n",
       "      <td>NaN</td>\n",
       "      <td>NaN</td>\n",
       "      <td>NaN</td>\n",
       "      <td>NaN</td>\n",
       "      <td>NaN</td>\n",
       "    </tr>\n",
       "    <tr>\n",
       "      <td>10002</td>\n",
       "      <td>-3.270819</td>\n",
       "      <td>-3.270770</td>\n",
       "      <td>-3.275023</td>\n",
       "      <td>-3.275170</td>\n",
       "      <td>-3.276432</td>\n",
       "      <td>-3.271478</td>\n",
       "      <td>-3.276817</td>\n",
       "      <td>-3.277696</td>\n",
       "      <td>-3.259258</td>\n",
       "      <td>-3.280213</td>\n",
       "      <td>...</td>\n",
       "      <td>NaN</td>\n",
       "      <td>NaN</td>\n",
       "      <td>NaN</td>\n",
       "      <td>NaN</td>\n",
       "      <td>NaN</td>\n",
       "      <td>NaN</td>\n",
       "      <td>NaN</td>\n",
       "      <td>NaN</td>\n",
       "      <td>NaN</td>\n",
       "      <td>NaN</td>\n",
       "    </tr>\n",
       "    <tr>\n",
       "      <td>100022</td>\n",
       "      <td>-3.245568</td>\n",
       "      <td>-3.264273</td>\n",
       "      <td>-3.232799</td>\n",
       "      <td>-3.287289</td>\n",
       "      <td>-3.278953</td>\n",
       "      <td>-3.266227</td>\n",
       "      <td>-3.268978</td>\n",
       "      <td>-3.244434</td>\n",
       "      <td>-3.252852</td>\n",
       "      <td>-3.267886</td>\n",
       "      <td>...</td>\n",
       "      <td>NaN</td>\n",
       "      <td>NaN</td>\n",
       "      <td>NaN</td>\n",
       "      <td>NaN</td>\n",
       "      <td>NaN</td>\n",
       "      <td>NaN</td>\n",
       "      <td>NaN</td>\n",
       "      <td>NaN</td>\n",
       "      <td>NaN</td>\n",
       "      <td>NaN</td>\n",
       "    </tr>\n",
       "    <tr>\n",
       "      <td>100032</td>\n",
       "      <td>-3.266231</td>\n",
       "      <td>-3.258645</td>\n",
       "      <td>-3.267889</td>\n",
       "      <td>-3.263960</td>\n",
       "      <td>-3.275918</td>\n",
       "      <td>-3.267804</td>\n",
       "      <td>-3.271504</td>\n",
       "      <td>-3.229685</td>\n",
       "      <td>-3.239249</td>\n",
       "      <td>-3.217783</td>\n",
       "      <td>...</td>\n",
       "      <td>NaN</td>\n",
       "      <td>NaN</td>\n",
       "      <td>NaN</td>\n",
       "      <td>NaN</td>\n",
       "      <td>NaN</td>\n",
       "      <td>NaN</td>\n",
       "      <td>NaN</td>\n",
       "      <td>NaN</td>\n",
       "      <td>NaN</td>\n",
       "      <td>NaN</td>\n",
       "    </tr>\n",
       "    <tr>\n",
       "      <td>100035</td>\n",
       "      <td>-3.222639</td>\n",
       "      <td>-3.556985</td>\n",
       "      <td>-3.257236</td>\n",
       "      <td>-3.229745</td>\n",
       "      <td>-3.241588</td>\n",
       "      <td>-3.268331</td>\n",
       "      <td>-1.818097</td>\n",
       "      <td>-2.895528</td>\n",
       "      <td>-1.771691</td>\n",
       "      <td>-3.030566</td>\n",
       "      <td>...</td>\n",
       "      <td>NaN</td>\n",
       "      <td>NaN</td>\n",
       "      <td>NaN</td>\n",
       "      <td>NaN</td>\n",
       "      <td>NaN</td>\n",
       "      <td>NaN</td>\n",
       "      <td>NaN</td>\n",
       "      <td>NaN</td>\n",
       "      <td>NaN</td>\n",
       "      <td>NaN</td>\n",
       "    </tr>\n",
       "    <tr>\n",
       "      <td>100040</td>\n",
       "      <td>-3.240856</td>\n",
       "      <td>-3.236626</td>\n",
       "      <td>-3.255646</td>\n",
       "      <td>-3.245752</td>\n",
       "      <td>-3.276256</td>\n",
       "      <td>-3.261837</td>\n",
       "      <td>-3.254625</td>\n",
       "      <td>-3.235012</td>\n",
       "      <td>-3.213823</td>\n",
       "      <td>-3.226850</td>\n",
       "      <td>...</td>\n",
       "      <td>NaN</td>\n",
       "      <td>NaN</td>\n",
       "      <td>NaN</td>\n",
       "      <td>NaN</td>\n",
       "      <td>NaN</td>\n",
       "      <td>NaN</td>\n",
       "      <td>NaN</td>\n",
       "      <td>NaN</td>\n",
       "      <td>NaN</td>\n",
       "      <td>NaN</td>\n",
       "    </tr>\n",
       "    <tr>\n",
       "      <td>100051</td>\n",
       "      <td>-3.234097</td>\n",
       "      <td>-3.253132</td>\n",
       "      <td>-3.241075</td>\n",
       "      <td>-3.268115</td>\n",
       "      <td>-3.227566</td>\n",
       "      <td>-3.214641</td>\n",
       "      <td>-3.268884</td>\n",
       "      <td>-3.288718</td>\n",
       "      <td>-3.231568</td>\n",
       "      <td>-3.256639</td>\n",
       "      <td>...</td>\n",
       "      <td>NaN</td>\n",
       "      <td>NaN</td>\n",
       "      <td>NaN</td>\n",
       "      <td>NaN</td>\n",
       "      <td>NaN</td>\n",
       "      <td>NaN</td>\n",
       "      <td>NaN</td>\n",
       "      <td>NaN</td>\n",
       "      <td>NaN</td>\n",
       "      <td>NaN</td>\n",
       "    </tr>\n",
       "    <tr>\n",
       "      <td>100061</td>\n",
       "      <td>-3.213636</td>\n",
       "      <td>-3.222338</td>\n",
       "      <td>-3.230530</td>\n",
       "      <td>-3.224939</td>\n",
       "      <td>-3.213003</td>\n",
       "      <td>-3.234520</td>\n",
       "      <td>-3.221863</td>\n",
       "      <td>-3.239471</td>\n",
       "      <td>-3.229144</td>\n",
       "      <td>-3.227205</td>\n",
       "      <td>...</td>\n",
       "      <td>NaN</td>\n",
       "      <td>NaN</td>\n",
       "      <td>NaN</td>\n",
       "      <td>NaN</td>\n",
       "      <td>NaN</td>\n",
       "      <td>NaN</td>\n",
       "      <td>NaN</td>\n",
       "      <td>NaN</td>\n",
       "      <td>NaN</td>\n",
       "      <td>NaN</td>\n",
       "    </tr>\n",
       "  </tbody>\n",
       "</table>\n",
       "<p>10 rows × 1089 columns</p>\n",
       "</div>"
      ],
      "text/plain": [
       "           supports                                                    \\\n",
       "claim_ids       0         1         2         3         4         5     \n",
       "ids                                                                     \n",
       "100004    -2.249075 -2.928968 -2.511117 -3.189722 -3.207441 -3.200376   \n",
       "100008    -3.249417 -3.236319 -3.258230 -3.270654 -3.232797 -3.257920   \n",
       "100015    -3.206785 -3.215637 -3.228110 -3.224283 -3.215745 -3.231602   \n",
       "10002     -3.270819 -3.270770 -3.275023 -3.275170 -3.276432 -3.271478   \n",
       "100022    -3.245568 -3.264273 -3.232799 -3.287289 -3.278953 -3.266227   \n",
       "100032    -3.266231 -3.258645 -3.267889 -3.263960 -3.275918 -3.267804   \n",
       "100035    -3.222639 -3.556985 -3.257236 -3.229745 -3.241588 -3.268331   \n",
       "100040    -3.240856 -3.236626 -3.255646 -3.245752 -3.276256 -3.261837   \n",
       "100051    -3.234097 -3.253132 -3.241075 -3.268115 -3.227566 -3.214641   \n",
       "100061    -3.213636 -3.222338 -3.230530 -3.224939 -3.213003 -3.234520   \n",
       "\n",
       "                                                   ... refutes              \\\n",
       "claim_ids       6         7         8         9    ...     353 354 355 356   \n",
       "ids                                                ...                       \n",
       "100004    -3.142753 -3.202490 -3.227860 -3.197501  ...     NaN NaN NaN NaN   \n",
       "100008    -3.253166 -3.256280 -3.252097 -3.267854  ...     NaN NaN NaN NaN   \n",
       "100015    -3.209411 -3.236177 -3.235633 -3.231221  ...     NaN NaN NaN NaN   \n",
       "10002     -3.276817 -3.277696 -3.259258 -3.280213  ...     NaN NaN NaN NaN   \n",
       "100022    -3.268978 -3.244434 -3.252852 -3.267886  ...     NaN NaN NaN NaN   \n",
       "100032    -3.271504 -3.229685 -3.239249 -3.217783  ...     NaN NaN NaN NaN   \n",
       "100035    -1.818097 -2.895528 -1.771691 -3.030566  ...     NaN NaN NaN NaN   \n",
       "100040    -3.254625 -3.235012 -3.213823 -3.226850  ...     NaN NaN NaN NaN   \n",
       "100051    -3.268884 -3.288718 -3.231568 -3.256639  ...     NaN NaN NaN NaN   \n",
       "100061    -3.221863 -3.239471 -3.229144 -3.227205  ...     NaN NaN NaN NaN   \n",
       "\n",
       "                                   \n",
       "claim_ids 357 358 359 360 361 362  \n",
       "ids                                \n",
       "100004    NaN NaN NaN NaN NaN NaN  \n",
       "100008    NaN NaN NaN NaN NaN NaN  \n",
       "100015    NaN NaN NaN NaN NaN NaN  \n",
       "10002     NaN NaN NaN NaN NaN NaN  \n",
       "100022    NaN NaN NaN NaN NaN NaN  \n",
       "100032    NaN NaN NaN NaN NaN NaN  \n",
       "100035    NaN NaN NaN NaN NaN NaN  \n",
       "100040    NaN NaN NaN NaN NaN NaN  \n",
       "100051    NaN NaN NaN NaN NaN NaN  \n",
       "100061    NaN NaN NaN NaN NaN NaN  \n",
       "\n",
       "[10 rows x 1089 columns]"
      ]
     },
     "execution_count": 80,
     "metadata": {},
     "output_type": "execute_result"
    }
   ],
   "source": [
    "result.head(10)"
   ]
  },
  {
   "cell_type": "code",
   "execution_count": 81,
   "metadata": {},
   "outputs": [],
   "source": [
    "data = pd.read_json('data/fever/train.sentences.p5.s5.jsonl', lines=True)"
   ]
  },
  {
   "cell_type": "code",
   "execution_count": 82,
   "metadata": {},
   "outputs": [
    {
     "data": {
      "text/html": [
       "<div>\n",
       "<style scoped>\n",
       "    .dataframe tbody tr th:only-of-type {\n",
       "        vertical-align: middle;\n",
       "    }\n",
       "\n",
       "    .dataframe tbody tr th {\n",
       "        vertical-align: top;\n",
       "    }\n",
       "\n",
       "    .dataframe thead th {\n",
       "        text-align: right;\n",
       "    }\n",
       "</style>\n",
       "<table border=\"1\" class=\"dataframe\">\n",
       "  <thead>\n",
       "    <tr style=\"text-align: right;\">\n",
       "      <th></th>\n",
       "      <th>id</th>\n",
       "      <th>verifiable</th>\n",
       "      <th>label</th>\n",
       "      <th>claim</th>\n",
       "      <th>evidence</th>\n",
       "      <th>predicted_pages</th>\n",
       "      <th>predicted_sentences</th>\n",
       "    </tr>\n",
       "  </thead>\n",
       "  <tbody>\n",
       "    <tr>\n",
       "      <td>0</td>\n",
       "      <td>75397</td>\n",
       "      <td>VERIFIABLE</td>\n",
       "      <td>SUPPORTS</td>\n",
       "      <td>Nikolaj Coster-Waldau worked with the Fox Broa...</td>\n",
       "      <td>[[[92206, 104971, Nikolaj_Coster-Waldau, 7], [...</td>\n",
       "      <td>[Fox_Broadcasting_Company]</td>\n",
       "      <td>[[Fox_Broadcasting_Company, 0], [Fox_Broadcast...</td>\n",
       "    </tr>\n",
       "    <tr>\n",
       "      <td>1</td>\n",
       "      <td>150448</td>\n",
       "      <td>VERIFIABLE</td>\n",
       "      <td>SUPPORTS</td>\n",
       "      <td>Roman Atwood is a content creator.</td>\n",
       "      <td>[[[174271, 187498, Roman_Atwood, 1]], [[174271...</td>\n",
       "      <td>[Lilly_Singh, Dennis_Roady, Roman_Atwood]</td>\n",
       "      <td>[[Roman_Atwood, 0], [Roman_Atwood, 2], [Roman_...</td>\n",
       "    </tr>\n",
       "    <tr>\n",
       "      <td>2</td>\n",
       "      <td>214861</td>\n",
       "      <td>VERIFIABLE</td>\n",
       "      <td>SUPPORTS</td>\n",
       "      <td>History of art includes architecture, dance, s...</td>\n",
       "      <td>[[[255136, 254645, History_of_art, 2]]]</td>\n",
       "      <td>[History_of_art, Acropolis_Institute_of_Techno...</td>\n",
       "      <td>[[History_of_art, 2], [List_of_New_Music_Ameri...</td>\n",
       "    </tr>\n",
       "    <tr>\n",
       "      <td>3</td>\n",
       "      <td>156709</td>\n",
       "      <td>VERIFIABLE</td>\n",
       "      <td>REFUTES</td>\n",
       "      <td>Adrienne Bailon is an accountant.</td>\n",
       "      <td>[[[180804, 193183, Adrienne_Bailon, 0]]]</td>\n",
       "      <td>[Adrienne_Bailon]</td>\n",
       "      <td>[[Adrienne_Bailon, 1], [Adrienne_Bailon, 0], [...</td>\n",
       "    </tr>\n",
       "    <tr>\n",
       "      <td>4</td>\n",
       "      <td>83235</td>\n",
       "      <td>NOT VERIFIABLE</td>\n",
       "      <td>NOT ENOUGH INFO</td>\n",
       "      <td>System of a Down briefly disbanded in limbo.</td>\n",
       "      <td>[[[100277, None, None, None]]]</td>\n",
       "      <td>[System_of_a_Down, Down_-LRB-film-RRB-]</td>\n",
       "      <td>[[System_of_a_Down, 6], [Down_-LRB-film-RRB-, ...</td>\n",
       "    </tr>\n",
       "    <tr>\n",
       "      <td>5</td>\n",
       "      <td>129629</td>\n",
       "      <td>VERIFIABLE</td>\n",
       "      <td>SUPPORTS</td>\n",
       "      <td>Homeland is an American television spy thrille...</td>\n",
       "      <td>[[[151831, 166598, Homeland_-LRB-TV_series-RRB...</td>\n",
       "      <td>[Andrew_Kaplan, Homeland_-LRB-TV_series-RRB-, ...</td>\n",
       "      <td>[[Homeland_-LRB-TV_series-RRB-, 0], [Homeland_...</td>\n",
       "    </tr>\n",
       "    <tr>\n",
       "      <td>6</td>\n",
       "      <td>149579</td>\n",
       "      <td>NOT VERIFIABLE</td>\n",
       "      <td>NOT ENOUGH INFO</td>\n",
       "      <td>Beautiful reached number two on the Billboard ...</td>\n",
       "      <td>[[[173384, None, None, None]]]</td>\n",
       "      <td>[Ricky_Martin_singles_discography, Beyoncé_di...</td>\n",
       "      <td>[[Akon_discography, 14], [Ricky_Martin_singles...</td>\n",
       "    </tr>\n",
       "    <tr>\n",
       "      <td>7</td>\n",
       "      <td>229289</td>\n",
       "      <td>NOT VERIFIABLE</td>\n",
       "      <td>NOT ENOUGH INFO</td>\n",
       "      <td>Neal Schon was named in 1954.</td>\n",
       "      <td>[[[273626, None, None, None]]]</td>\n",
       "      <td>[Neal_Schon, Double_Eclipse]</td>\n",
       "      <td>[[Neal_Schon, 0], [Neal_Schon, 5], [Double_Ecl...</td>\n",
       "    </tr>\n",
       "    <tr>\n",
       "      <td>8</td>\n",
       "      <td>33078</td>\n",
       "      <td>VERIFIABLE</td>\n",
       "      <td>SUPPORTS</td>\n",
       "      <td>The Boston Celtics play their home games at TD...</td>\n",
       "      <td>[[[49158, 58489, Boston_Celtics, 3]], [[49159,...</td>\n",
       "      <td>[List_of_Boston_Celtics_head_coaches, Boston_C...</td>\n",
       "      <td>[[Boston_Celtics, 3], [List_of_Boston_Celtics_...</td>\n",
       "    </tr>\n",
       "    <tr>\n",
       "      <td>9</td>\n",
       "      <td>6744</td>\n",
       "      <td>VERIFIABLE</td>\n",
       "      <td>SUPPORTS</td>\n",
       "      <td>The Ten Commandments is an epic film.</td>\n",
       "      <td>[[[23513, 28977, The_Ten_Commandments_-LRB-195...</td>\n",
       "      <td>[The_Ten_Commandments_-LRB-1923_film-RRB-, The...</td>\n",
       "      <td>[[The_Ten_Commandments_-LRB-1956_film-RRB-, 0]...</td>\n",
       "    </tr>\n",
       "  </tbody>\n",
       "</table>\n",
       "</div>"
      ],
      "text/plain": [
       "       id      verifiable            label  \\\n",
       "0   75397      VERIFIABLE         SUPPORTS   \n",
       "1  150448      VERIFIABLE         SUPPORTS   \n",
       "2  214861      VERIFIABLE         SUPPORTS   \n",
       "3  156709      VERIFIABLE          REFUTES   \n",
       "4   83235  NOT VERIFIABLE  NOT ENOUGH INFO   \n",
       "5  129629      VERIFIABLE         SUPPORTS   \n",
       "6  149579  NOT VERIFIABLE  NOT ENOUGH INFO   \n",
       "7  229289  NOT VERIFIABLE  NOT ENOUGH INFO   \n",
       "8   33078      VERIFIABLE         SUPPORTS   \n",
       "9    6744      VERIFIABLE         SUPPORTS   \n",
       "\n",
       "                                               claim  \\\n",
       "0  Nikolaj Coster-Waldau worked with the Fox Broa...   \n",
       "1                 Roman Atwood is a content creator.   \n",
       "2  History of art includes architecture, dance, s...   \n",
       "3                  Adrienne Bailon is an accountant.   \n",
       "4       System of a Down briefly disbanded in limbo.   \n",
       "5  Homeland is an American television spy thrille...   \n",
       "6  Beautiful reached number two on the Billboard ...   \n",
       "7                      Neal Schon was named in 1954.   \n",
       "8  The Boston Celtics play their home games at TD...   \n",
       "9              The Ten Commandments is an epic film.   \n",
       "\n",
       "                                            evidence  \\\n",
       "0  [[[92206, 104971, Nikolaj_Coster-Waldau, 7], [...   \n",
       "1  [[[174271, 187498, Roman_Atwood, 1]], [[174271...   \n",
       "2            [[[255136, 254645, History_of_art, 2]]]   \n",
       "3           [[[180804, 193183, Adrienne_Bailon, 0]]]   \n",
       "4                     [[[100277, None, None, None]]]   \n",
       "5  [[[151831, 166598, Homeland_-LRB-TV_series-RRB...   \n",
       "6                     [[[173384, None, None, None]]]   \n",
       "7                     [[[273626, None, None, None]]]   \n",
       "8  [[[49158, 58489, Boston_Celtics, 3]], [[49159,...   \n",
       "9  [[[23513, 28977, The_Ten_Commandments_-LRB-195...   \n",
       "\n",
       "                                     predicted_pages  \\\n",
       "0                         [Fox_Broadcasting_Company]   \n",
       "1          [Lilly_Singh, Dennis_Roady, Roman_Atwood]   \n",
       "2  [History_of_art, Acropolis_Institute_of_Techno...   \n",
       "3                                  [Adrienne_Bailon]   \n",
       "4            [System_of_a_Down, Down_-LRB-film-RRB-]   \n",
       "5  [Andrew_Kaplan, Homeland_-LRB-TV_series-RRB-, ...   \n",
       "6  [Ricky_Martin_singles_discography, Beyoncé_di...   \n",
       "7                       [Neal_Schon, Double_Eclipse]   \n",
       "8  [List_of_Boston_Celtics_head_coaches, Boston_C...   \n",
       "9  [The_Ten_Commandments_-LRB-1923_film-RRB-, The...   \n",
       "\n",
       "                                 predicted_sentences  \n",
       "0  [[Fox_Broadcasting_Company, 0], [Fox_Broadcast...  \n",
       "1  [[Roman_Atwood, 0], [Roman_Atwood, 2], [Roman_...  \n",
       "2  [[History_of_art, 2], [List_of_New_Music_Ameri...  \n",
       "3  [[Adrienne_Bailon, 1], [Adrienne_Bailon, 0], [...  \n",
       "4  [[System_of_a_Down, 6], [Down_-LRB-film-RRB-, ...  \n",
       "5  [[Homeland_-LRB-TV_series-RRB-, 0], [Homeland_...  \n",
       "6  [[Akon_discography, 14], [Ricky_Martin_singles...  \n",
       "7  [[Neal_Schon, 0], [Neal_Schon, 5], [Double_Ecl...  \n",
       "8  [[Boston_Celtics, 3], [List_of_Boston_Celtics_...  \n",
       "9  [[The_Ten_Commandments_-LRB-1956_film-RRB-, 0]...  "
      ]
     },
     "execution_count": 82,
     "metadata": {},
     "output_type": "execute_result"
    }
   ],
   "source": [
    "data.head(10)"
   ]
  },
  {
   "cell_type": "code",
   "execution_count": 83,
   "metadata": {},
   "outputs": [
    {
     "name": "stderr",
     "output_type": "stream",
     "text": [
      "100%|██████████| 36922/36922 [00:29<00:00, 1243.67it/s]\n"
     ]
    }
   ],
   "source": [
    "labels = []\n",
    "for i in tqdm(result.index):\n",
    "    labels.append(data.loc[data['id']==int(i)]['label'].values[0])"
   ]
  },
  {
   "cell_type": "code",
   "execution_count": 84,
   "metadata": {},
   "outputs": [],
   "source": [
    "label = {'SUPPORTS': 0, 'NOT ENOUGH INFO': 1, 'REFUTES': 2}\n",
    "labels = [label[k] for k in labels]"
   ]
  },
  {
   "cell_type": "code",
   "execution_count": 85,
   "metadata": {},
   "outputs": [],
   "source": [
    "labels = pd.DataFrame(labels, columns=['label'])"
   ]
  },
  {
   "cell_type": "code",
   "execution_count": 86,
   "metadata": {},
   "outputs": [],
   "source": [
    "results = pd.concat([result.reset_index(), labels], axis=1, ignore_index=True)"
   ]
  },
  {
   "cell_type": "code",
   "execution_count": 87,
   "metadata": {},
   "outputs": [],
   "source": [
    "features = results.loc[:, 1:15].values\n",
    "labels = results[16].values"
   ]
  },
  {
   "cell_type": "code",
   "execution_count": 88,
   "metadata": {},
   "outputs": [
    {
     "data": {
      "text/plain": [
       "SimpleImputer(add_indicator=False, copy=True, fill_value=None,\n",
       "              missing_values=nan, strategy='mean', verbose=0)"
      ]
     },
     "execution_count": 88,
     "metadata": {},
     "output_type": "execute_result"
    }
   ],
   "source": [
    "from sklearn.impute import SimpleImputer\n",
    "import numpy as np\n",
    "imp = SimpleImputer(missing_values=np.nan, strategy='mean')\n",
    "imp.fit(features)"
   ]
  },
  {
   "cell_type": "code",
   "execution_count": 89,
   "metadata": {},
   "outputs": [
    {
     "ename": "ValueError",
     "evalue": "Input contains NaN, infinity or a value too large for dtype('float64').",
     "output_type": "error",
     "traceback": [
      "\u001b[0;31m---------------------------------------------------------------------------\u001b[0m",
      "\u001b[0;31mValueError\u001b[0m                                Traceback (most recent call last)",
      "\u001b[0;32m<ipython-input-89-a920a741377c>\u001b[0m in \u001b[0;36m<module>\u001b[0;34m\u001b[0m\n\u001b[1;32m      1\u001b[0m \u001b[0;32mfrom\u001b[0m \u001b[0msklearn\u001b[0m\u001b[0;34m.\u001b[0m\u001b[0mpreprocessing\u001b[0m \u001b[0;32mimport\u001b[0m \u001b[0mlabel_binarize\u001b[0m\u001b[0;34m\u001b[0m\u001b[0;34m\u001b[0m\u001b[0m\n\u001b[1;32m      2\u001b[0m \u001b[0mfeatures\u001b[0m \u001b[0;34m=\u001b[0m \u001b[0mimp\u001b[0m\u001b[0;34m.\u001b[0m\u001b[0mtransform\u001b[0m\u001b[0;34m(\u001b[0m\u001b[0mfeatures\u001b[0m\u001b[0;34m)\u001b[0m\u001b[0;34m\u001b[0m\u001b[0;34m\u001b[0m\u001b[0m\n\u001b[0;32m----> 3\u001b[0;31m \u001b[0mlabels\u001b[0m \u001b[0;34m=\u001b[0m \u001b[0mlabel_binarize\u001b[0m\u001b[0;34m(\u001b[0m\u001b[0mlabels\u001b[0m\u001b[0;34m,\u001b[0m \u001b[0mclasses\u001b[0m\u001b[0;34m=\u001b[0m\u001b[0;34m[\u001b[0m\u001b[0;36m0\u001b[0m\u001b[0;34m,\u001b[0m \u001b[0;36m1\u001b[0m\u001b[0;34m,\u001b[0m \u001b[0;36m2\u001b[0m\u001b[0;34m]\u001b[0m\u001b[0;34m)\u001b[0m\u001b[0;34m\u001b[0m\u001b[0;34m\u001b[0m\u001b[0m\n\u001b[0m",
      "\u001b[0;32m~/anaconda3/envs/fever/lib/python3.6/site-packages/sklearn/preprocessing/label.py\u001b[0m in \u001b[0;36mlabel_binarize\u001b[0;34m(y, classes, neg_label, pos_label, sparse_output)\u001b[0m\n\u001b[1;32m    585\u001b[0m         \u001b[0;31m# XXX Workaround that will be removed when list of list format is\u001b[0m\u001b[0;34m\u001b[0m\u001b[0;34m\u001b[0m\u001b[0;34m\u001b[0m\u001b[0m\n\u001b[1;32m    586\u001b[0m         \u001b[0;31m# dropped\u001b[0m\u001b[0;34m\u001b[0m\u001b[0;34m\u001b[0m\u001b[0;34m\u001b[0m\u001b[0m\n\u001b[0;32m--> 587\u001b[0;31m         \u001b[0my\u001b[0m \u001b[0;34m=\u001b[0m \u001b[0mcheck_array\u001b[0m\u001b[0;34m(\u001b[0m\u001b[0my\u001b[0m\u001b[0;34m,\u001b[0m \u001b[0maccept_sparse\u001b[0m\u001b[0;34m=\u001b[0m\u001b[0;34m'csr'\u001b[0m\u001b[0;34m,\u001b[0m \u001b[0mensure_2d\u001b[0m\u001b[0;34m=\u001b[0m\u001b[0;32mFalse\u001b[0m\u001b[0;34m,\u001b[0m \u001b[0mdtype\u001b[0m\u001b[0;34m=\u001b[0m\u001b[0;32mNone\u001b[0m\u001b[0;34m)\u001b[0m\u001b[0;34m\u001b[0m\u001b[0;34m\u001b[0m\u001b[0m\n\u001b[0m\u001b[1;32m    588\u001b[0m     \u001b[0;32melse\u001b[0m\u001b[0;34m:\u001b[0m\u001b[0;34m\u001b[0m\u001b[0;34m\u001b[0m\u001b[0m\n\u001b[1;32m    589\u001b[0m         \u001b[0;32mif\u001b[0m \u001b[0m_num_samples\u001b[0m\u001b[0;34m(\u001b[0m\u001b[0my\u001b[0m\u001b[0;34m)\u001b[0m \u001b[0;34m==\u001b[0m \u001b[0;36m0\u001b[0m\u001b[0;34m:\u001b[0m\u001b[0;34m\u001b[0m\u001b[0;34m\u001b[0m\u001b[0m\n",
      "\u001b[0;32m~/anaconda3/envs/fever/lib/python3.6/site-packages/sklearn/utils/validation.py\u001b[0m in \u001b[0;36mcheck_array\u001b[0;34m(array, accept_sparse, accept_large_sparse, dtype, order, copy, force_all_finite, ensure_2d, allow_nd, ensure_min_samples, ensure_min_features, warn_on_dtype, estimator)\u001b[0m\n\u001b[1;32m    540\u001b[0m         \u001b[0;32mif\u001b[0m \u001b[0mforce_all_finite\u001b[0m\u001b[0;34m:\u001b[0m\u001b[0;34m\u001b[0m\u001b[0;34m\u001b[0m\u001b[0m\n\u001b[1;32m    541\u001b[0m             _assert_all_finite(array,\n\u001b[0;32m--> 542\u001b[0;31m                                allow_nan=force_all_finite == 'allow-nan')\n\u001b[0m\u001b[1;32m    543\u001b[0m \u001b[0;34m\u001b[0m\u001b[0m\n\u001b[1;32m    544\u001b[0m     \u001b[0;32mif\u001b[0m \u001b[0mensure_min_samples\u001b[0m \u001b[0;34m>\u001b[0m \u001b[0;36m0\u001b[0m\u001b[0;34m:\u001b[0m\u001b[0;34m\u001b[0m\u001b[0;34m\u001b[0m\u001b[0m\n",
      "\u001b[0;32m~/anaconda3/envs/fever/lib/python3.6/site-packages/sklearn/utils/validation.py\u001b[0m in \u001b[0;36m_assert_all_finite\u001b[0;34m(X, allow_nan)\u001b[0m\n\u001b[1;32m     54\u001b[0m                 not allow_nan and not np.isfinite(X).all()):\n\u001b[1;32m     55\u001b[0m             \u001b[0mtype_err\u001b[0m \u001b[0;34m=\u001b[0m \u001b[0;34m'infinity'\u001b[0m \u001b[0;32mif\u001b[0m \u001b[0mallow_nan\u001b[0m \u001b[0;32melse\u001b[0m \u001b[0;34m'NaN, infinity'\u001b[0m\u001b[0;34m\u001b[0m\u001b[0;34m\u001b[0m\u001b[0m\n\u001b[0;32m---> 56\u001b[0;31m             \u001b[0;32mraise\u001b[0m \u001b[0mValueError\u001b[0m\u001b[0;34m(\u001b[0m\u001b[0mmsg_err\u001b[0m\u001b[0;34m.\u001b[0m\u001b[0mformat\u001b[0m\u001b[0;34m(\u001b[0m\u001b[0mtype_err\u001b[0m\u001b[0;34m,\u001b[0m \u001b[0mX\u001b[0m\u001b[0;34m.\u001b[0m\u001b[0mdtype\u001b[0m\u001b[0;34m)\u001b[0m\u001b[0;34m)\u001b[0m\u001b[0;34m\u001b[0m\u001b[0;34m\u001b[0m\u001b[0m\n\u001b[0m\u001b[1;32m     57\u001b[0m     \u001b[0;31m# for object dtype data, we only check for NaNs (GH-13254)\u001b[0m\u001b[0;34m\u001b[0m\u001b[0;34m\u001b[0m\u001b[0;34m\u001b[0m\u001b[0m\n\u001b[1;32m     58\u001b[0m     \u001b[0;32melif\u001b[0m \u001b[0mX\u001b[0m\u001b[0;34m.\u001b[0m\u001b[0mdtype\u001b[0m \u001b[0;34m==\u001b[0m \u001b[0mnp\u001b[0m\u001b[0;34m.\u001b[0m\u001b[0mdtype\u001b[0m\u001b[0;34m(\u001b[0m\u001b[0;34m'object'\u001b[0m\u001b[0;34m)\u001b[0m \u001b[0;32mand\u001b[0m \u001b[0;32mnot\u001b[0m \u001b[0mallow_nan\u001b[0m\u001b[0;34m:\u001b[0m\u001b[0;34m\u001b[0m\u001b[0;34m\u001b[0m\u001b[0m\n",
      "\u001b[0;31mValueError\u001b[0m: Input contains NaN, infinity or a value too large for dtype('float64')."
     ]
    }
   ],
   "source": [
    "from sklearn.preprocessing import label_binarize\n",
    "features = imp.transform(features)\n",
    "labels = label_binarize(labels, classes=[0, 1, 2])"
   ]
  },
  {
   "cell_type": "code",
   "execution_count": 115,
   "metadata": {},
   "outputs": [],
   "source": [
    "from sklearn.model_selection import train_test_split\n",
    "train_x, eval_x, train_y, eval_y = train_test_split(features, labels, test_size = 0.2, random_state = 42)"
   ]
  },
  {
   "cell_type": "code",
   "execution_count": 116,
   "metadata": {},
   "outputs": [
    {
     "name": "stderr",
     "output_type": "stream",
     "text": [
      "[Parallel(n_jobs=-1)]: Using backend ThreadingBackend with 28 concurrent workers.\n",
      "[Parallel(n_jobs=-1)]: Done 144 tasks      | elapsed:   11.7s\n",
      "[Parallel(n_jobs=-1)]: Done 394 tasks      | elapsed:   29.3s\n",
      "[Parallel(n_jobs=-1)]: Done 744 tasks      | elapsed:   53.9s\n",
      "[Parallel(n_jobs=-1)]: Done 1000 out of 1000 | elapsed:  1.2min finished\n",
      "[Parallel(n_jobs=28)]: Using backend ThreadingBackend with 28 concurrent workers.\n",
      "[Parallel(n_jobs=28)]: Done 144 tasks      | elapsed:    0.3s\n",
      "[Parallel(n_jobs=28)]: Done 394 tasks      | elapsed:    0.6s\n",
      "[Parallel(n_jobs=28)]: Done 744 tasks      | elapsed:    1.1s\n",
      "[Parallel(n_jobs=28)]: Done 1000 out of 1000 | elapsed:    1.5s finished\n",
      "[Parallel(n_jobs=28)]: Using backend ThreadingBackend with 28 concurrent workers.\n",
      "[Parallel(n_jobs=28)]: Done 144 tasks      | elapsed:    0.3s\n",
      "[Parallel(n_jobs=28)]: Done 394 tasks      | elapsed:    0.6s\n",
      "[Parallel(n_jobs=28)]: Done 744 tasks      | elapsed:    1.2s\n",
      "[Parallel(n_jobs=28)]: Done 1000 out of 1000 | elapsed:    1.6s finished\n"
     ]
    }
   ],
   "source": [
    "from sklearn.ensemble import RandomForestClassifier\n",
    "from sklearn.metrics import roc_curve, auc\n",
    "from sklearn import metrics\n",
    "import matplotlib.pyplot as plt\n",
    "%matplotlib inline\n",
    "\n",
    "rf = RandomForestClassifier(n_estimators=1000, n_jobs=-1, verbose=1, criterion='entropy')\n",
    "rf.fit(train_x, train_y)\n",
    "pred_y = rf.predict(eval_x)\n",
    "pred_proba_y = rf.predict_proba(eval_x)\n",
    "n_classes = 3"
   ]
  },
  {
   "cell_type": "code",
   "execution_count": 118,
   "metadata": {
    "scrolled": false
   },
   "outputs": [
    {
     "name": "stdout",
     "output_type": "stream",
     "text": [
      "Accuracy 0.690724441435342\n"
     ]
    },
    {
     "data": {
      "image/png": "[encoded data removed]",
      "text/plain": [
       "<Figure size 432x288 with 1 Axes>"
      ]
     },
     "metadata": {
      "needs_background": "light"
     },
     "output_type": "display_data"
    },
    {
     "data": {
      "image/png": "[encoded data removed]",
      "text/plain": [
       "<Figure size 432x288 with 1 Axes>"
      ]
     },
     "metadata": {
      "needs_background": "light"
     },
     "output_type": "display_data"
    },
    {
     "data": {
      "image/png": "[encoded data removed]",
      "text/plain": [
       "<Figure size 432x288 with 1 Axes>"
      ]
     },
     "metadata": {
      "needs_background": "light"
     },
     "output_type": "display_data"
    }
   ],
   "source": [
    "from sklearn.metrics import roc_curve, auc\n",
    "\n",
    "n_classes = 3\n",
    "fpr_rf = dict()\n",
    "tpr_rf = dict()\n",
    "roc_auc_rf = dict()\n",
    "for i in range(n_classes):\n",
    "    fpr_rf[i], tpr_rf[i], _ = roc_curve(eval_y[:, i], pred_proba_y[i][::, 1])\n",
    "    roc_auc_rf[i] = auc(fpr_rf[i], tpr_rf[i])\n",
    "\n",
    "print(\"Accuracy\", metrics.accuracy_score(eval_y, pred_y))\n",
    "# Plot of a ROC curve for a specific class\n",
    "classifications = ['SUPPORTS', 'NOT ENOUGH INFO', 'REFUTES']\n",
    "for i in range(n_classes):\n",
    "    plt.figure()\n",
    "    plt.plot(fpr_rf[i], tpr_rf[i], label='ROC curve (area = %0.2f)' % roc_auc_rf[i])\n",
    "    plt.plot([0, 1], [0, 1], 'k--')\n",
    "    plt.xlim([0.0, 1.0])\n",
    "    plt.ylim([0.0, 1.05])\n",
    "    plt.xlabel('False Positive Rate')\n",
    "    plt.ylabel('True Positive Rate')\n",
    "    plt.title('Receiver operating characteristic {}'.format(classifications[i]))\n",
    "    plt.legend(loc=\"lower right\")\n",
    "    plt.show()"
   ]
  },
  {
   "cell_type": "markdown",
   "metadata": {},
   "source": [
    "# Test5 Data"
   ]
  },
  {
   "cell_type": "code",
   "execution_count": null,
   "metadata": {},
   "outputs": [],
   "source": [
    "test_logprobs_file = 'finetuning-roberta/outputs_more_epochs/test5-finetuned-roberta-epochs-logprobs'\n",
    "test_decision_file = 'finetuning-roberta/outputs_more_epochs/test5-finetuned-roberta-epochs-predictions'\n",
    "test_index_file = 'data/fever/test5.index'\n",
    "\n",
    "test_logprobs_fp = open(test_logprobs_file, \"r\")\n",
    "test_decision_fp = open(test_decision_file, \"r\")\n",
    "test_index_fp = open(test_index_file, \"r\")"
   ]
  },
  {
   "cell_type": "code",
   "execution_count": null,
   "metadata": {},
   "outputs": [],
   "source": [
    "test_logprobs_hdr = test_logprobs_fp.readline()\n",
    "test_logprobs = []\n",
    "for output in tqdm(test_logprobs_fp.readlines()):\n",
    "    output = output.rstrip().split()\n",
    "    if len(output)==4:\n",
    "        probs = [float(output[1][1:]), float(output[2]), float(output[3][:-1])]\n",
    "    elif len(output)==5 and output[1]=='[':\n",
    "        probs = [float(output[2]), float(output[3]), float(output[4][:-1])]\n",
    "    elif len(output)==5 and output[4]==']':\n",
    "        probs = [float(output[1][1:]), float(output[2]), float(output[3])]\n",
    "    elif len(output)==6:\n",
    "        probs = [float(output[2]), float(output[3]), float(output[4])]\n",
    "    test_logprobs.append(probs)"
   ]
  },
  {
   "cell_type": "code",
   "execution_count": null,
   "metadata": {},
   "outputs": [],
   "source": [
    "test_logprobs = pd.DataFrame(test_logprobs)"
   ]
  },
  {
   "cell_type": "code",
   "execution_count": null,
   "metadata": {},
   "outputs": [],
   "source": [
    "test_index = []\n",
    "for output in tqdm(test_index_fp.readlines()):\n",
    "    output = output.rstrip().split()\n",
    "    test_index.append(output)\n",
    "test_index = pd.DataFrame(test_index)"
   ]
  },
  {
   "cell_type": "code",
   "execution_count": null,
   "metadata": {},
   "outputs": [],
   "source": [
    "test_data = pd.concat([test_index, test_logprobs], axis=1, ignore_index=True)"
   ]
  },
  {
   "cell_type": "code",
   "execution_count": null,
   "metadata": {},
   "outputs": [],
   "source": [
    "test_data = test_data.drop(1, 1)\n",
    "test_data = test_data.drop(2, 1)\n",
    "test_data = test_data.drop(3, 1)\n",
    "test_data.columns = ['ids', 'supports', 'neutral', 'refutes']"
   ]
  },
  {
   "cell_type": "code",
   "execution_count": null,
   "metadata": {},
   "outputs": [],
   "source": [
    "test_data['claim_ids'] = test_data.groupby('ids').cumcount()\n",
    "test_result = test_data.pivot(index='ids', columns='claim_ids')"
   ]
  },
  {
   "cell_type": "code",
   "execution_count": null,
   "metadata": {},
   "outputs": [],
   "source": [
    "test_features = pd.concat([test_result['supports'], test_result['neutral'], test_result['refutes']], ignore_index=True, axis=1)"
   ]
  },
  {
   "cell_type": "code",
   "execution_count": null,
   "metadata": {},
   "outputs": [],
   "source": [
    "test_features = test_features.values\n",
    "test_features = imp.transform(test_features)"
   ]
  },
  {
   "cell_type": "code",
   "execution_count": null,
   "metadata": {},
   "outputs": [],
   "source": [
    "pred_test = rf.predict(test_features)\n",
    "pred_proba_test = rf.predict_proba(test_features)"
   ]
  },
  {
   "cell_type": "code",
   "execution_count": null,
   "metadata": {
    "scrolled": true
   },
   "outputs": [],
   "source": [
    "y_test = [0, 1, 2]\n",
    "\n",
    "from sklearn import preprocessing\n",
    "lb = preprocessing.LabelBinarizer()\n",
    "y_test_binarize = lb.fit_transform(y_test)\n",
    "\n",
    "pred_test = lb.inverse_transform(pred_test)"
   ]
  },
  {
   "cell_type": "code",
   "execution_count": null,
   "metadata": {},
   "outputs": [],
   "source": [
    "label_inv = {0: 'SUPPORTS', 1: 'NOT ENOUGH INFO', 2: 'REFUTES'}\n",
    "test_classifications = [label_inv[k] for k in pred_test]"
   ]
  },
  {
   "cell_type": "code",
   "execution_count": null,
   "metadata": {},
   "outputs": [],
   "source": [
    "rf_file = pd.concat([pd.DataFrame(test_result.index), pd.DataFrame(pred_test)], axis=1)"
   ]
  },
  {
   "cell_type": "code",
   "execution_count": null,
   "metadata": {},
   "outputs": [],
   "source": [
    "rf_file.to_csv('data/fever/test5-finetuned-roberta-epochs-rf_file', header=False, index=False)"
   ]
  },
  {
   "cell_type": "code",
   "execution_count": null,
   "metadata": {},
   "outputs": [],
   "source": [
    "test_classifications"
   ]
  },
  {
   "cell_type": "markdown",
   "metadata": {},
   "source": [
    "# Using Neural Network"
   ]
  },
  {
   "cell_type": "code",
   "execution_count": null,
   "metadata": {},
   "outputs": [],
   "source": [
    "import torch\n",
    "import torchvision\n",
    "import torchvision.transforms as transforms\n",
    "import math"
   ]
  },
  {
   "cell_type": "code",
   "execution_count": null,
   "metadata": {},
   "outputs": [],
   "source": [
    "class Feedforward(torch.nn.Module):\n",
    "    def __init__(self, input_size, hidden_size, output_size):\n",
    "        super(Feedforward, self).__init__()\n",
    "        self.input_size = input_size\n",
    "        self.hidden_size  = hidden_size\n",
    "        self.output_size = output_size\n",
    "        self.dropout = torch.nn.Dropout(p=0.05)\n",
    "        self.fc1 = torch.nn.Linear(self.input_size, self.hidden_size[0])\n",
    "        self.relu = torch.nn.ReLU()\n",
    "        self.fc2 = torch.nn.Linear(self.hidden_size[0], self.hidden_size[1])\n",
    "        self.fc3 = torch.nn.Linear(self.hidden_size[1], self.hidden_size[2])\n",
    "        self.fc4 = torch.nn.Linear(self.hidden_size[2], self.output_size)\n",
    "        self.sigmoid = torch.nn.Sigmoid()\n",
    "        \n",
    "    def forward(self, x):\n",
    "        x = self.fc1(x)\n",
    "        x = self.relu(x)\n",
    "        x = self.fc2(x)\n",
    "        x = self.dropout(x)\n",
    "        x = self.relu(x)\n",
    "        x = self.fc3(x)\n",
    "        x = self.relu(x)\n",
    "        x = self.fc4(x)\n",
    "        output = self.sigmoid(x)\n",
    "        return output"
   ]
  },
  {
   "cell_type": "code",
   "execution_count": null,
   "metadata": {},
   "outputs": [],
   "source": [
    "batch_size = 1000\n",
    "epoch = 150\n",
    "input_size = 15\n",
    "hidden_size = [50, 100, 50]\n",
    "output_size = 3"
   ]
  },
  {
   "cell_type": "code",
   "execution_count": null,
   "metadata": {},
   "outputs": [],
   "source": [
    "from sklearn.model_selection import train_test_split\n",
    "x_train, x_eval, y_train, y_eval = train_test_split(features, labels, test_size = 0.2, random_state = 42)\n",
    "x_test = test_features"
   ]
  },
  {
   "cell_type": "code",
   "execution_count": null,
   "metadata": {},
   "outputs": [],
   "source": [
    "for i in tqdm(range(len(x_train))):\n",
    "    for j in range(3):\n",
    "        x_train[i][j*5:(j+1)*5] = np.sort(x_train[i][j*5:(j+1)*5])\n",
    "for i in tqdm(range(len(x_eval))):\n",
    "    for j in range(3):\n",
    "        x_eval[i][j*5:(j+1)*5] = np.sort(x_eval[i][j*5:(j+1)*5])\n",
    "for i in tqdm(range(len(x_test))):\n",
    "    for j in range(3):\n",
    "        x_test[i][j*5:(j+1)*5] = np.sort(x_test[i][j*5:(j+1)*5])"
   ]
  },
  {
   "cell_type": "code",
   "execution_count": null,
   "metadata": {},
   "outputs": [],
   "source": [
    "x_train_batches = []\n",
    "y_train_batches = []\n",
    "x_eval_batches = []\n",
    "y_eval_batches = []\n",
    "x_test_batches = []\n",
    "for i in tqdm(range(math.ceil(len(x_train)/batch_size))):\n",
    "    x_train_batches.append(torch.FloatTensor(x_train[i*batch_size:i*batch_size+batch_size]))\n",
    "    y_train_batches.append(torch.FloatTensor(y_train[i*batch_size:i*batch_size+batch_size]))\n",
    "for i in tqdm(range(math.ceil(len(x_eval)/batch_size))):\n",
    "    x_eval_batches.append(torch.FloatTensor(x_eval[i*batch_size:i*batch_size+batch_size]))\n",
    "    y_eval_batches.append(torch.FloatTensor(y_eval[i*batch_size:i*batch_size+batch_size]))\n",
    "for i in tqdm(range(math.ceil(len(x_test)/batch_size))):\n",
    "    x_test_batches.append(torch.FloatTensor(x_test[i*batch_size:i*batch_size+batch_size]))"
   ]
  },
  {
   "cell_type": "code",
   "execution_count": null,
   "metadata": {},
   "outputs": [],
   "source": [
    "model = Feedforward(input_size, hidden_size, output_size)\n",
    "criterion = torch.nn.BCELoss()\n",
    "optimizer = torch.optim.SGD(model.parameters(), lr = 0.01)"
   ]
  },
  {
   "cell_type": "code",
   "execution_count": null,
   "metadata": {},
   "outputs": [],
   "source": [
    "model.eval()\n",
    "y_pred = model(x_eval_batches[0])\n",
    "before_train = criterion(y_pred.squeeze(), y_eval_batches[0])\n",
    "print('Evaluation loss before training' , before_train.item())"
   ]
  },
  {
   "cell_type": "code",
   "execution_count": null,
   "metadata": {},
   "outputs": [],
   "source": [
    "for param_group in optimizer.param_groups:\n",
    "    param_group['lr'] = 0.001"
   ]
  },
  {
   "cell_type": "code",
   "execution_count": null,
   "metadata": {},
   "outputs": [],
   "source": [
    "train_loss_evolution = []\n",
    "eval_loss_evolution = []"
   ]
  },
  {
   "cell_type": "code",
   "execution_count": null,
   "metadata": {
    "scrolled": false
   },
   "outputs": [],
   "source": [
    "for epoch in range(250):\n",
    "    model.train()\n",
    "    train_loss = []\n",
    "    for i in range(len(x_train_batches)):\n",
    "        optimizer.zero_grad()\n",
    "        # Forward pass\n",
    "        y_pred = model(x_train_batches[i])\n",
    "        # Compute Loss\n",
    "        loss = criterion(y_pred.squeeze(), y_train_batches[i])\n",
    "        \n",
    "        train_loss.append(loss.item())\n",
    "        # Backward pass\n",
    "        loss.backward()\n",
    "        optimizer.step()\n",
    "    \n",
    "    model.eval()\n",
    "    eval_loss = []\n",
    "    for i in range(len(x_eval_batches)):\n",
    "        y_pred = model(x_eval_batches[i])\n",
    "        after_train = criterion(y_pred.squeeze(), y_eval_batches[i])\n",
    "        eval_loss.append(after_train.item())\n",
    "    print('Epoch: {}, Training Loss: {}, Evalution Loss: {}'.format(epoch, np.mean(train_loss), np.mean(eval_loss)))\n",
    "    train_loss_evolution.append(np.mean(train_loss))\n",
    "    eval_loss_evolution.append(np.mean(eval_loss))"
   ]
  },
  {
   "cell_type": "code",
   "execution_count": null,
   "metadata": {},
   "outputs": [],
   "source": [
    "import matplotlib.pyplot as plt\n",
    "%matplotlib inline"
   ]
  },
  {
   "cell_type": "code",
   "execution_count": null,
   "metadata": {},
   "outputs": [],
   "source": [
    "plt.plot(range(len(train_loss_evolution)), train_loss_evolution)\n",
    "plt.plot(range(len(train_loss_evolution)), eval_loss_evolution)\n",
    "plt.xlabel('Epoch')\n",
    "plt.yscale('log')\n",
    "plt.xscale('log')\n",
    "plt.ylabel('Binary Cross Entropy Loss')\n",
    "plt.legend(['Training Loss', 'Evalutaion Loss'])"
   ]
  },
  {
   "cell_type": "code",
   "execution_count": null,
   "metadata": {},
   "outputs": [],
   "source": [
    "model.eval()\n",
    "predictions = []\n",
    "for i in range(len(x_test_batches)):\n",
    "    y_pred = model(x_test_batches[i])\n",
    "    predictions.append(y_pred)"
   ]
  },
  {
   "cell_type": "code",
   "execution_count": null,
   "metadata": {},
   "outputs": [],
   "source": [
    "probs = []\n",
    "labels = []\n",
    "for batch in tqdm(predictions):\n",
    "    values, idxs = batch.max(1)\n",
    "    probs = probs + values.tolist()\n",
    "    labels = labels + idxs.tolist()"
   ]
  },
  {
   "cell_type": "code",
   "execution_count": null,
   "metadata": {},
   "outputs": [],
   "source": [
    "ff_file = pd.concat([pd.DataFrame(test_result.index), pd.DataFrame(labels)], axis=1)"
   ]
  },
  {
   "cell_type": "code",
   "execution_count": null,
   "metadata": {},
   "outputs": [],
   "source": [
    "ff_file.to_csv('data/fever/test5-finetuned-roberta-epochs-ff-tuned3_file', header=False, index=False)"
   ]
  },
  {
   "cell_type": "code",
   "execution_count": null,
   "metadata": {},
   "outputs": [],
   "source": [
    "x_train[0]"
   ]
  },
  {
   "cell_type": "markdown",
   "metadata": {},
   "source": [
    "# Testing with full test data"
   ]
  },
  {
   "cell_type": "markdown",
   "metadata": {},
   "source": [
    "## Training data"
   ]
  },
  {
   "cell_type": "code",
   "execution_count": 90,
   "metadata": {},
   "outputs": [],
   "source": [
    "import pandas as pd\n",
    "from tqdm import tqdm\n",
    "\n",
    "hypothesis_file = 'data/fever/train50-truncated.hypothesis'\n",
    "premise_file = 'data/fever/train50-truncated.premise'\n",
    "label_file = 'data/fever/train50-truncated.label'\n",
    "index_file = 'data/fever/train50-truncated.index'\n",
    "logprobs_file = 'finetuning-roberta/outputs_parameter_tuning/params1/train50-truncated-finetuned-roberta-params1-logprobs'\n",
    "decision_file = 'finetuning-roberta/outputs_parameter_tuning/params1/train50-truncated-finetuned-roberta-params1-results'\n",
    "\n",
    "hypothesis_fp = open(hypothesis_file, \"r\")\n",
    "premise_fp = open(premise_file, \"r\")\n",
    "label_fp = open(label_file, \"r\")\n",
    "index_fp = open(index_file, \"r\")\n",
    "logprobs_fp = open(logprobs_file, \"r\")\n",
    "decision_fp = open(decision_file, \"r\")"
   ]
  },
  {
   "cell_type": "code",
   "execution_count": 91,
   "metadata": {},
   "outputs": [
    {
     "name": "stderr",
     "output_type": "stream",
     "text": [
      "100%|██████████| 3000039/3000039 [00:09<00:00, 314421.51it/s]\n"
     ]
    }
   ],
   "source": [
    "logprobs_hdr = logprobs_fp.readline()\n",
    "logprobs = []\n",
    "for output in tqdm(logprobs_fp.readlines()):\n",
    "    output = output.rstrip().split()\n",
    "    if len(output)==4:\n",
    "        probs = [float(output[1][1:]), float(output[2]), float(output[3][:-1])]\n",
    "    elif len(output)==5 and output[1]=='[':\n",
    "        probs = [float(output[2]), float(output[3]), float(output[4][:-1])]\n",
    "    elif len(output)==5 and output[4]==']':\n",
    "        probs = [float(output[1][1:]), float(output[2]), float(output[3])]\n",
    "    elif len(output)==6:\n",
    "        probs = [float(output[2]), float(output[3]), float(output[4])]\n",
    "    logprobs.append(probs)"
   ]
  },
  {
   "cell_type": "code",
   "execution_count": 92,
   "metadata": {},
   "outputs": [],
   "source": [
    "logprobs = pd.DataFrame(logprobs)"
   ]
  },
  {
   "cell_type": "code",
   "execution_count": 93,
   "metadata": {},
   "outputs": [
    {
     "name": "stderr",
     "output_type": "stream",
     "text": [
      "100%|██████████| 9797581/9797581 [00:21<00:00, 459594.80it/s] \n"
     ]
    }
   ],
   "source": [
    "index = []\n",
    "for output in tqdm(index_fp.readlines()):\n",
    "    output = output.rstrip().split()\n",
    "    index.append(output)\n",
    "index = index[:len(logprobs)]"
   ]
  },
  {
   "cell_type": "code",
   "execution_count": 94,
   "metadata": {},
   "outputs": [],
   "source": [
    "index = pd.DataFrame(index)"
   ]
  },
  {
   "cell_type": "code",
   "execution_count": 95,
   "metadata": {
    "scrolled": true
   },
   "outputs": [],
   "source": [
    "data = pd.concat([index, logprobs], axis=1, ignore_index=True)"
   ]
  },
  {
   "cell_type": "code",
   "execution_count": 96,
   "metadata": {},
   "outputs": [],
   "source": [
    "data = data.drop(1, 1)\n",
    "data = data.drop(2, 1)\n",
    "data = data.drop(3, 1)"
   ]
  },
  {
   "cell_type": "code",
   "execution_count": 97,
   "metadata": {
    "scrolled": true
   },
   "outputs": [],
   "source": [
    "data.columns = ['ids', 'supports', 'neutral', 'refutes']"
   ]
  },
  {
   "cell_type": "code",
   "execution_count": 98,
   "metadata": {},
   "outputs": [],
   "source": [
    "data['claim_ids'] = data.groupby('ids').cumcount()\n",
    "result = data.pivot(index='ids', columns='claim_ids')"
   ]
  },
  {
   "cell_type": "code",
   "execution_count": 99,
   "metadata": {
    "scrolled": false
   },
   "outputs": [
    {
     "data": {
      "text/html": [
       "<div>\n",
       "<style scoped>\n",
       "    .dataframe tbody tr th:only-of-type {\n",
       "        vertical-align: middle;\n",
       "    }\n",
       "\n",
       "    .dataframe tbody tr th {\n",
       "        vertical-align: top;\n",
       "    }\n",
       "\n",
       "    .dataframe thead tr th {\n",
       "        text-align: left;\n",
       "    }\n",
       "\n",
       "    .dataframe thead tr:last-of-type th {\n",
       "        text-align: right;\n",
       "    }\n",
       "</style>\n",
       "<table border=\"1\" class=\"dataframe\">\n",
       "  <thead>\n",
       "    <tr>\n",
       "      <th></th>\n",
       "      <th colspan=\"10\" halign=\"left\">supports</th>\n",
       "      <th>...</th>\n",
       "      <th colspan=\"10\" halign=\"left\">refutes</th>\n",
       "    </tr>\n",
       "    <tr>\n",
       "      <th>claim_ids</th>\n",
       "      <th>0</th>\n",
       "      <th>1</th>\n",
       "      <th>2</th>\n",
       "      <th>3</th>\n",
       "      <th>4</th>\n",
       "      <th>5</th>\n",
       "      <th>6</th>\n",
       "      <th>7</th>\n",
       "      <th>8</th>\n",
       "      <th>9</th>\n",
       "      <th>...</th>\n",
       "      <th>353</th>\n",
       "      <th>354</th>\n",
       "      <th>355</th>\n",
       "      <th>356</th>\n",
       "      <th>357</th>\n",
       "      <th>358</th>\n",
       "      <th>359</th>\n",
       "      <th>360</th>\n",
       "      <th>361</th>\n",
       "      <th>362</th>\n",
       "    </tr>\n",
       "    <tr>\n",
       "      <th>ids</th>\n",
       "      <th></th>\n",
       "      <th></th>\n",
       "      <th></th>\n",
       "      <th></th>\n",
       "      <th></th>\n",
       "      <th></th>\n",
       "      <th></th>\n",
       "      <th></th>\n",
       "      <th></th>\n",
       "      <th></th>\n",
       "      <th></th>\n",
       "      <th></th>\n",
       "      <th></th>\n",
       "      <th></th>\n",
       "      <th></th>\n",
       "      <th></th>\n",
       "      <th></th>\n",
       "      <th></th>\n",
       "      <th></th>\n",
       "      <th></th>\n",
       "      <th></th>\n",
       "    </tr>\n",
       "  </thead>\n",
       "  <tbody>\n",
       "    <tr>\n",
       "      <td>100004</td>\n",
       "      <td>-2.249075</td>\n",
       "      <td>-2.928968</td>\n",
       "      <td>-2.511117</td>\n",
       "      <td>-3.189722</td>\n",
       "      <td>-3.207441</td>\n",
       "      <td>-3.200376</td>\n",
       "      <td>-3.142753</td>\n",
       "      <td>-3.202490</td>\n",
       "      <td>-3.227860</td>\n",
       "      <td>-3.197501</td>\n",
       "      <td>...</td>\n",
       "      <td>NaN</td>\n",
       "      <td>NaN</td>\n",
       "      <td>NaN</td>\n",
       "      <td>NaN</td>\n",
       "      <td>NaN</td>\n",
       "      <td>NaN</td>\n",
       "      <td>NaN</td>\n",
       "      <td>NaN</td>\n",
       "      <td>NaN</td>\n",
       "      <td>NaN</td>\n",
       "    </tr>\n",
       "    <tr>\n",
       "      <td>100008</td>\n",
       "      <td>-3.249417</td>\n",
       "      <td>-3.236319</td>\n",
       "      <td>-3.258230</td>\n",
       "      <td>-3.270654</td>\n",
       "      <td>-3.232797</td>\n",
       "      <td>-3.257920</td>\n",
       "      <td>-3.253166</td>\n",
       "      <td>-3.256280</td>\n",
       "      <td>-3.252097</td>\n",
       "      <td>-3.267854</td>\n",
       "      <td>...</td>\n",
       "      <td>NaN</td>\n",
       "      <td>NaN</td>\n",
       "      <td>NaN</td>\n",
       "      <td>NaN</td>\n",
       "      <td>NaN</td>\n",
       "      <td>NaN</td>\n",
       "      <td>NaN</td>\n",
       "      <td>NaN</td>\n",
       "      <td>NaN</td>\n",
       "      <td>NaN</td>\n",
       "    </tr>\n",
       "    <tr>\n",
       "      <td>100015</td>\n",
       "      <td>-3.206785</td>\n",
       "      <td>-3.215637</td>\n",
       "      <td>-3.228110</td>\n",
       "      <td>-3.224283</td>\n",
       "      <td>-3.215745</td>\n",
       "      <td>-3.231602</td>\n",
       "      <td>-3.209411</td>\n",
       "      <td>-3.236177</td>\n",
       "      <td>-3.235633</td>\n",
       "      <td>-3.231221</td>\n",
       "      <td>...</td>\n",
       "      <td>NaN</td>\n",
       "      <td>NaN</td>\n",
       "      <td>NaN</td>\n",
       "      <td>NaN</td>\n",
       "      <td>NaN</td>\n",
       "      <td>NaN</td>\n",
       "      <td>NaN</td>\n",
       "      <td>NaN</td>\n",
       "      <td>NaN</td>\n",
       "      <td>NaN</td>\n",
       "    </tr>\n",
       "    <tr>\n",
       "      <td>10002</td>\n",
       "      <td>-3.270819</td>\n",
       "      <td>-3.270770</td>\n",
       "      <td>-3.275023</td>\n",
       "      <td>-3.275170</td>\n",
       "      <td>-3.276432</td>\n",
       "      <td>-3.271478</td>\n",
       "      <td>-3.276817</td>\n",
       "      <td>-3.277696</td>\n",
       "      <td>-3.259258</td>\n",
       "      <td>-3.280213</td>\n",
       "      <td>...</td>\n",
       "      <td>NaN</td>\n",
       "      <td>NaN</td>\n",
       "      <td>NaN</td>\n",
       "      <td>NaN</td>\n",
       "      <td>NaN</td>\n",
       "      <td>NaN</td>\n",
       "      <td>NaN</td>\n",
       "      <td>NaN</td>\n",
       "      <td>NaN</td>\n",
       "      <td>NaN</td>\n",
       "    </tr>\n",
       "    <tr>\n",
       "      <td>100022</td>\n",
       "      <td>-3.245568</td>\n",
       "      <td>-3.264273</td>\n",
       "      <td>-3.232799</td>\n",
       "      <td>-3.287289</td>\n",
       "      <td>-3.278953</td>\n",
       "      <td>-3.266227</td>\n",
       "      <td>-3.268978</td>\n",
       "      <td>-3.244434</td>\n",
       "      <td>-3.252852</td>\n",
       "      <td>-3.267886</td>\n",
       "      <td>...</td>\n",
       "      <td>NaN</td>\n",
       "      <td>NaN</td>\n",
       "      <td>NaN</td>\n",
       "      <td>NaN</td>\n",
       "      <td>NaN</td>\n",
       "      <td>NaN</td>\n",
       "      <td>NaN</td>\n",
       "      <td>NaN</td>\n",
       "      <td>NaN</td>\n",
       "      <td>NaN</td>\n",
       "    </tr>\n",
       "    <tr>\n",
       "      <td>100032</td>\n",
       "      <td>-3.266231</td>\n",
       "      <td>-3.258645</td>\n",
       "      <td>-3.267889</td>\n",
       "      <td>-3.263960</td>\n",
       "      <td>-3.275918</td>\n",
       "      <td>-3.267804</td>\n",
       "      <td>-3.271504</td>\n",
       "      <td>-3.229685</td>\n",
       "      <td>-3.239249</td>\n",
       "      <td>-3.217783</td>\n",
       "      <td>...</td>\n",
       "      <td>NaN</td>\n",
       "      <td>NaN</td>\n",
       "      <td>NaN</td>\n",
       "      <td>NaN</td>\n",
       "      <td>NaN</td>\n",
       "      <td>NaN</td>\n",
       "      <td>NaN</td>\n",
       "      <td>NaN</td>\n",
       "      <td>NaN</td>\n",
       "      <td>NaN</td>\n",
       "    </tr>\n",
       "    <tr>\n",
       "      <td>100035</td>\n",
       "      <td>-3.222639</td>\n",
       "      <td>-3.556985</td>\n",
       "      <td>-3.257236</td>\n",
       "      <td>-3.229745</td>\n",
       "      <td>-3.241588</td>\n",
       "      <td>-3.268331</td>\n",
       "      <td>-1.818097</td>\n",
       "      <td>-2.895528</td>\n",
       "      <td>-1.771691</td>\n",
       "      <td>-3.030566</td>\n",
       "      <td>...</td>\n",
       "      <td>NaN</td>\n",
       "      <td>NaN</td>\n",
       "      <td>NaN</td>\n",
       "      <td>NaN</td>\n",
       "      <td>NaN</td>\n",
       "      <td>NaN</td>\n",
       "      <td>NaN</td>\n",
       "      <td>NaN</td>\n",
       "      <td>NaN</td>\n",
       "      <td>NaN</td>\n",
       "    </tr>\n",
       "    <tr>\n",
       "      <td>100040</td>\n",
       "      <td>-3.240856</td>\n",
       "      <td>-3.236626</td>\n",
       "      <td>-3.255646</td>\n",
       "      <td>-3.245752</td>\n",
       "      <td>-3.276256</td>\n",
       "      <td>-3.261837</td>\n",
       "      <td>-3.254625</td>\n",
       "      <td>-3.235012</td>\n",
       "      <td>-3.213823</td>\n",
       "      <td>-3.226850</td>\n",
       "      <td>...</td>\n",
       "      <td>NaN</td>\n",
       "      <td>NaN</td>\n",
       "      <td>NaN</td>\n",
       "      <td>NaN</td>\n",
       "      <td>NaN</td>\n",
       "      <td>NaN</td>\n",
       "      <td>NaN</td>\n",
       "      <td>NaN</td>\n",
       "      <td>NaN</td>\n",
       "      <td>NaN</td>\n",
       "    </tr>\n",
       "    <tr>\n",
       "      <td>100051</td>\n",
       "      <td>-3.234097</td>\n",
       "      <td>-3.253132</td>\n",
       "      <td>-3.241075</td>\n",
       "      <td>-3.268115</td>\n",
       "      <td>-3.227566</td>\n",
       "      <td>-3.214641</td>\n",
       "      <td>-3.268884</td>\n",
       "      <td>-3.288718</td>\n",
       "      <td>-3.231568</td>\n",
       "      <td>-3.256639</td>\n",
       "      <td>...</td>\n",
       "      <td>NaN</td>\n",
       "      <td>NaN</td>\n",
       "      <td>NaN</td>\n",
       "      <td>NaN</td>\n",
       "      <td>NaN</td>\n",
       "      <td>NaN</td>\n",
       "      <td>NaN</td>\n",
       "      <td>NaN</td>\n",
       "      <td>NaN</td>\n",
       "      <td>NaN</td>\n",
       "    </tr>\n",
       "    <tr>\n",
       "      <td>100061</td>\n",
       "      <td>-3.213636</td>\n",
       "      <td>-3.222338</td>\n",
       "      <td>-3.230530</td>\n",
       "      <td>-3.224939</td>\n",
       "      <td>-3.213003</td>\n",
       "      <td>-3.234520</td>\n",
       "      <td>-3.221863</td>\n",
       "      <td>-3.239471</td>\n",
       "      <td>-3.229144</td>\n",
       "      <td>-3.227205</td>\n",
       "      <td>...</td>\n",
       "      <td>NaN</td>\n",
       "      <td>NaN</td>\n",
       "      <td>NaN</td>\n",
       "      <td>NaN</td>\n",
       "      <td>NaN</td>\n",
       "      <td>NaN</td>\n",
       "      <td>NaN</td>\n",
       "      <td>NaN</td>\n",
       "      <td>NaN</td>\n",
       "      <td>NaN</td>\n",
       "    </tr>\n",
       "  </tbody>\n",
       "</table>\n",
       "<p>10 rows × 1089 columns</p>\n",
       "</div>"
      ],
      "text/plain": [
       "           supports                                                    \\\n",
       "claim_ids       0         1         2         3         4         5     \n",
       "ids                                                                     \n",
       "100004    -2.249075 -2.928968 -2.511117 -3.189722 -3.207441 -3.200376   \n",
       "100008    -3.249417 -3.236319 -3.258230 -3.270654 -3.232797 -3.257920   \n",
       "100015    -3.206785 -3.215637 -3.228110 -3.224283 -3.215745 -3.231602   \n",
       "10002     -3.270819 -3.270770 -3.275023 -3.275170 -3.276432 -3.271478   \n",
       "100022    -3.245568 -3.264273 -3.232799 -3.287289 -3.278953 -3.266227   \n",
       "100032    -3.266231 -3.258645 -3.267889 -3.263960 -3.275918 -3.267804   \n",
       "100035    -3.222639 -3.556985 -3.257236 -3.229745 -3.241588 -3.268331   \n",
       "100040    -3.240856 -3.236626 -3.255646 -3.245752 -3.276256 -3.261837   \n",
       "100051    -3.234097 -3.253132 -3.241075 -3.268115 -3.227566 -3.214641   \n",
       "100061    -3.213636 -3.222338 -3.230530 -3.224939 -3.213003 -3.234520   \n",
       "\n",
       "                                                   ... refutes              \\\n",
       "claim_ids       6         7         8         9    ...     353 354 355 356   \n",
       "ids                                                ...                       \n",
       "100004    -3.142753 -3.202490 -3.227860 -3.197501  ...     NaN NaN NaN NaN   \n",
       "100008    -3.253166 -3.256280 -3.252097 -3.267854  ...     NaN NaN NaN NaN   \n",
       "100015    -3.209411 -3.236177 -3.235633 -3.231221  ...     NaN NaN NaN NaN   \n",
       "10002     -3.276817 -3.277696 -3.259258 -3.280213  ...     NaN NaN NaN NaN   \n",
       "100022    -3.268978 -3.244434 -3.252852 -3.267886  ...     NaN NaN NaN NaN   \n",
       "100032    -3.271504 -3.229685 -3.239249 -3.217783  ...     NaN NaN NaN NaN   \n",
       "100035    -1.818097 -2.895528 -1.771691 -3.030566  ...     NaN NaN NaN NaN   \n",
       "100040    -3.254625 -3.235012 -3.213823 -3.226850  ...     NaN NaN NaN NaN   \n",
       "100051    -3.268884 -3.288718 -3.231568 -3.256639  ...     NaN NaN NaN NaN   \n",
       "100061    -3.221863 -3.239471 -3.229144 -3.227205  ...     NaN NaN NaN NaN   \n",
       "\n",
       "                                   \n",
       "claim_ids 357 358 359 360 361 362  \n",
       "ids                                \n",
       "100004    NaN NaN NaN NaN NaN NaN  \n",
       "100008    NaN NaN NaN NaN NaN NaN  \n",
       "100015    NaN NaN NaN NaN NaN NaN  \n",
       "10002     NaN NaN NaN NaN NaN NaN  \n",
       "100022    NaN NaN NaN NaN NaN NaN  \n",
       "100032    NaN NaN NaN NaN NaN NaN  \n",
       "100035    NaN NaN NaN NaN NaN NaN  \n",
       "100040    NaN NaN NaN NaN NaN NaN  \n",
       "100051    NaN NaN NaN NaN NaN NaN  \n",
       "100061    NaN NaN NaN NaN NaN NaN  \n",
       "\n",
       "[10 rows x 1089 columns]"
      ]
     },
     "execution_count": 99,
     "metadata": {},
     "output_type": "execute_result"
    }
   ],
   "source": [
    "result.head(10)"
   ]
  },
  {
   "cell_type": "code",
   "execution_count": 100,
   "metadata": {
    "scrolled": true
   },
   "outputs": [],
   "source": [
    "supports = result['supports']\n",
    "refutes = result['refutes']\n",
    "neutral = result['neutral']\n",
    "feature_length = int(result.shape[1])\n",
    "\n",
    "for i in range(int(feature_length/3), result['supports'].shape[1], 1):\n",
    "    supports = supports.drop(i, 1)\n",
    "    refutes = refutes.drop(i, 1)\n",
    "    neutral = neutral.drop(i, 1)"
   ]
  },
  {
   "cell_type": "code",
   "execution_count": 101,
   "metadata": {},
   "outputs": [],
   "source": [
    "result = pd.concat([supports, neutral, refutes], axis=1)"
   ]
  },
  {
   "cell_type": "code",
   "execution_count": 102,
   "metadata": {},
   "outputs": [],
   "source": [
    "data = pd.read_json('data/fever/train.sentences.p5.s5.jsonl', lines=True)"
   ]
  },
  {
   "cell_type": "code",
   "execution_count": 103,
   "metadata": {},
   "outputs": [
    {
     "data": {
      "text/html": [
       "<div>\n",
       "<style scoped>\n",
       "    .dataframe tbody tr th:only-of-type {\n",
       "        vertical-align: middle;\n",
       "    }\n",
       "\n",
       "    .dataframe tbody tr th {\n",
       "        vertical-align: top;\n",
       "    }\n",
       "\n",
       "    .dataframe thead th {\n",
       "        text-align: right;\n",
       "    }\n",
       "</style>\n",
       "<table border=\"1\" class=\"dataframe\">\n",
       "  <thead>\n",
       "    <tr style=\"text-align: right;\">\n",
       "      <th></th>\n",
       "      <th>id</th>\n",
       "      <th>verifiable</th>\n",
       "      <th>label</th>\n",
       "      <th>claim</th>\n",
       "      <th>evidence</th>\n",
       "      <th>predicted_pages</th>\n",
       "      <th>predicted_sentences</th>\n",
       "    </tr>\n",
       "  </thead>\n",
       "  <tbody>\n",
       "    <tr>\n",
       "      <td>0</td>\n",
       "      <td>75397</td>\n",
       "      <td>VERIFIABLE</td>\n",
       "      <td>SUPPORTS</td>\n",
       "      <td>Nikolaj Coster-Waldau worked with the Fox Broa...</td>\n",
       "      <td>[[[92206, 104971, Nikolaj_Coster-Waldau, 7], [...</td>\n",
       "      <td>[Fox_Broadcasting_Company]</td>\n",
       "      <td>[[Fox_Broadcasting_Company, 0], [Fox_Broadcast...</td>\n",
       "    </tr>\n",
       "    <tr>\n",
       "      <td>1</td>\n",
       "      <td>150448</td>\n",
       "      <td>VERIFIABLE</td>\n",
       "      <td>SUPPORTS</td>\n",
       "      <td>Roman Atwood is a content creator.</td>\n",
       "      <td>[[[174271, 187498, Roman_Atwood, 1]], [[174271...</td>\n",
       "      <td>[Lilly_Singh, Dennis_Roady, Roman_Atwood]</td>\n",
       "      <td>[[Roman_Atwood, 0], [Roman_Atwood, 2], [Roman_...</td>\n",
       "    </tr>\n",
       "    <tr>\n",
       "      <td>2</td>\n",
       "      <td>214861</td>\n",
       "      <td>VERIFIABLE</td>\n",
       "      <td>SUPPORTS</td>\n",
       "      <td>History of art includes architecture, dance, s...</td>\n",
       "      <td>[[[255136, 254645, History_of_art, 2]]]</td>\n",
       "      <td>[History_of_art, Acropolis_Institute_of_Techno...</td>\n",
       "      <td>[[History_of_art, 2], [List_of_New_Music_Ameri...</td>\n",
       "    </tr>\n",
       "    <tr>\n",
       "      <td>3</td>\n",
       "      <td>156709</td>\n",
       "      <td>VERIFIABLE</td>\n",
       "      <td>REFUTES</td>\n",
       "      <td>Adrienne Bailon is an accountant.</td>\n",
       "      <td>[[[180804, 193183, Adrienne_Bailon, 0]]]</td>\n",
       "      <td>[Adrienne_Bailon]</td>\n",
       "      <td>[[Adrienne_Bailon, 1], [Adrienne_Bailon, 0], [...</td>\n",
       "    </tr>\n",
       "    <tr>\n",
       "      <td>4</td>\n",
       "      <td>83235</td>\n",
       "      <td>NOT VERIFIABLE</td>\n",
       "      <td>NOT ENOUGH INFO</td>\n",
       "      <td>System of a Down briefly disbanded in limbo.</td>\n",
       "      <td>[[[100277, None, None, None]]]</td>\n",
       "      <td>[System_of_a_Down, Down_-LRB-film-RRB-]</td>\n",
       "      <td>[[System_of_a_Down, 6], [Down_-LRB-film-RRB-, ...</td>\n",
       "    </tr>\n",
       "    <tr>\n",
       "      <td>5</td>\n",
       "      <td>129629</td>\n",
       "      <td>VERIFIABLE</td>\n",
       "      <td>SUPPORTS</td>\n",
       "      <td>Homeland is an American television spy thrille...</td>\n",
       "      <td>[[[151831, 166598, Homeland_-LRB-TV_series-RRB...</td>\n",
       "      <td>[Andrew_Kaplan, Homeland_-LRB-TV_series-RRB-, ...</td>\n",
       "      <td>[[Homeland_-LRB-TV_series-RRB-, 0], [Homeland_...</td>\n",
       "    </tr>\n",
       "    <tr>\n",
       "      <td>6</td>\n",
       "      <td>149579</td>\n",
       "      <td>NOT VERIFIABLE</td>\n",
       "      <td>NOT ENOUGH INFO</td>\n",
       "      <td>Beautiful reached number two on the Billboard ...</td>\n",
       "      <td>[[[173384, None, None, None]]]</td>\n",
       "      <td>[Ricky_Martin_singles_discography, Beyoncé_di...</td>\n",
       "      <td>[[Akon_discography, 14], [Ricky_Martin_singles...</td>\n",
       "    </tr>\n",
       "    <tr>\n",
       "      <td>7</td>\n",
       "      <td>229289</td>\n",
       "      <td>NOT VERIFIABLE</td>\n",
       "      <td>NOT ENOUGH INFO</td>\n",
       "      <td>Neal Schon was named in 1954.</td>\n",
       "      <td>[[[273626, None, None, None]]]</td>\n",
       "      <td>[Neal_Schon, Double_Eclipse]</td>\n",
       "      <td>[[Neal_Schon, 0], [Neal_Schon, 5], [Double_Ecl...</td>\n",
       "    </tr>\n",
       "    <tr>\n",
       "      <td>8</td>\n",
       "      <td>33078</td>\n",
       "      <td>VERIFIABLE</td>\n",
       "      <td>SUPPORTS</td>\n",
       "      <td>The Boston Celtics play their home games at TD...</td>\n",
       "      <td>[[[49158, 58489, Boston_Celtics, 3]], [[49159,...</td>\n",
       "      <td>[List_of_Boston_Celtics_head_coaches, Boston_C...</td>\n",
       "      <td>[[Boston_Celtics, 3], [List_of_Boston_Celtics_...</td>\n",
       "    </tr>\n",
       "    <tr>\n",
       "      <td>9</td>\n",
       "      <td>6744</td>\n",
       "      <td>VERIFIABLE</td>\n",
       "      <td>SUPPORTS</td>\n",
       "      <td>The Ten Commandments is an epic film.</td>\n",
       "      <td>[[[23513, 28977, The_Ten_Commandments_-LRB-195...</td>\n",
       "      <td>[The_Ten_Commandments_-LRB-1923_film-RRB-, The...</td>\n",
       "      <td>[[The_Ten_Commandments_-LRB-1956_film-RRB-, 0]...</td>\n",
       "    </tr>\n",
       "  </tbody>\n",
       "</table>\n",
       "</div>"
      ],
      "text/plain": [
       "       id      verifiable            label  \\\n",
       "0   75397      VERIFIABLE         SUPPORTS   \n",
       "1  150448      VERIFIABLE         SUPPORTS   \n",
       "2  214861      VERIFIABLE         SUPPORTS   \n",
       "3  156709      VERIFIABLE          REFUTES   \n",
       "4   83235  NOT VERIFIABLE  NOT ENOUGH INFO   \n",
       "5  129629      VERIFIABLE         SUPPORTS   \n",
       "6  149579  NOT VERIFIABLE  NOT ENOUGH INFO   \n",
       "7  229289  NOT VERIFIABLE  NOT ENOUGH INFO   \n",
       "8   33078      VERIFIABLE         SUPPORTS   \n",
       "9    6744      VERIFIABLE         SUPPORTS   \n",
       "\n",
       "                                               claim  \\\n",
       "0  Nikolaj Coster-Waldau worked with the Fox Broa...   \n",
       "1                 Roman Atwood is a content creator.   \n",
       "2  History of art includes architecture, dance, s...   \n",
       "3                  Adrienne Bailon is an accountant.   \n",
       "4       System of a Down briefly disbanded in limbo.   \n",
       "5  Homeland is an American television spy thrille...   \n",
       "6  Beautiful reached number two on the Billboard ...   \n",
       "7                      Neal Schon was named in 1954.   \n",
       "8  The Boston Celtics play their home games at TD...   \n",
       "9              The Ten Commandments is an epic film.   \n",
       "\n",
       "                                            evidence  \\\n",
       "0  [[[92206, 104971, Nikolaj_Coster-Waldau, 7], [...   \n",
       "1  [[[174271, 187498, Roman_Atwood, 1]], [[174271...   \n",
       "2            [[[255136, 254645, History_of_art, 2]]]   \n",
       "3           [[[180804, 193183, Adrienne_Bailon, 0]]]   \n",
       "4                     [[[100277, None, None, None]]]   \n",
       "5  [[[151831, 166598, Homeland_-LRB-TV_series-RRB...   \n",
       "6                     [[[173384, None, None, None]]]   \n",
       "7                     [[[273626, None, None, None]]]   \n",
       "8  [[[49158, 58489, Boston_Celtics, 3]], [[49159,...   \n",
       "9  [[[23513, 28977, The_Ten_Commandments_-LRB-195...   \n",
       "\n",
       "                                     predicted_pages  \\\n",
       "0                         [Fox_Broadcasting_Company]   \n",
       "1          [Lilly_Singh, Dennis_Roady, Roman_Atwood]   \n",
       "2  [History_of_art, Acropolis_Institute_of_Techno...   \n",
       "3                                  [Adrienne_Bailon]   \n",
       "4            [System_of_a_Down, Down_-LRB-film-RRB-]   \n",
       "5  [Andrew_Kaplan, Homeland_-LRB-TV_series-RRB-, ...   \n",
       "6  [Ricky_Martin_singles_discography, Beyoncé_di...   \n",
       "7                       [Neal_Schon, Double_Eclipse]   \n",
       "8  [List_of_Boston_Celtics_head_coaches, Boston_C...   \n",
       "9  [The_Ten_Commandments_-LRB-1923_film-RRB-, The...   \n",
       "\n",
       "                                 predicted_sentences  \n",
       "0  [[Fox_Broadcasting_Company, 0], [Fox_Broadcast...  \n",
       "1  [[Roman_Atwood, 0], [Roman_Atwood, 2], [Roman_...  \n",
       "2  [[History_of_art, 2], [List_of_New_Music_Ameri...  \n",
       "3  [[Adrienne_Bailon, 1], [Adrienne_Bailon, 0], [...  \n",
       "4  [[System_of_a_Down, 6], [Down_-LRB-film-RRB-, ...  \n",
       "5  [[Homeland_-LRB-TV_series-RRB-, 0], [Homeland_...  \n",
       "6  [[Akon_discography, 14], [Ricky_Martin_singles...  \n",
       "7  [[Neal_Schon, 0], [Neal_Schon, 5], [Double_Ecl...  \n",
       "8  [[Boston_Celtics, 3], [List_of_Boston_Celtics_...  \n",
       "9  [[The_Ten_Commandments_-LRB-1956_film-RRB-, 0]...  "
      ]
     },
     "execution_count": 103,
     "metadata": {},
     "output_type": "execute_result"
    }
   ],
   "source": [
    "data.head(10)"
   ]
  },
  {
   "cell_type": "code",
   "execution_count": 104,
   "metadata": {},
   "outputs": [
    {
     "name": "stderr",
     "output_type": "stream",
     "text": [
      "100%|██████████| 36922/36922 [00:29<00:00, 1232.05it/s]\n"
     ]
    }
   ],
   "source": [
    "labels = []\n",
    "for i in tqdm(result.index):\n",
    "    labels.append(data.loc[data['id']==int(i)]['label'].values[0])"
   ]
  },
  {
   "cell_type": "code",
   "execution_count": 105,
   "metadata": {},
   "outputs": [],
   "source": [
    "label = {'SUPPORTS': 0, 'NOT ENOUGH INFO': 1, 'REFUTES': 2}\n",
    "labels = [label[k] for k in labels]"
   ]
  },
  {
   "cell_type": "code",
   "execution_count": 106,
   "metadata": {},
   "outputs": [],
   "source": [
    "labels = labels[:len(result)]"
   ]
  },
  {
   "cell_type": "code",
   "execution_count": 107,
   "metadata": {},
   "outputs": [],
   "source": [
    "labels = pd.DataFrame(labels, columns=['label'])"
   ]
  },
  {
   "cell_type": "code",
   "execution_count": 108,
   "metadata": {},
   "outputs": [],
   "source": [
    "results = pd.concat([result.reset_index(), labels], axis=1, ignore_index=True)"
   ]
  },
  {
   "cell_type": "code",
   "execution_count": 109,
   "metadata": {},
   "outputs": [],
   "source": [
    "features = results.loc[:, 1:feature_length].values\n",
    "labels = results[feature_length+1].values"
   ]
  },
  {
   "cell_type": "code",
   "execution_count": 110,
   "metadata": {},
   "outputs": [
    {
     "name": "stderr",
     "output_type": "stream",
     "text": [
      "100%|██████████| 36922/36922 [00:01<00:00, 25710.07it/s]\n"
     ]
    }
   ],
   "source": [
    "import numpy as np\n",
    "num_feat = int(feature_length/3)\n",
    "for i in tqdm(range(len(features))):\n",
    "    for j in range(3):\n",
    "        features[i][j*num_feat:(j+1)*num_feat] = -np.sort(-features[i][j*num_feat:(j+1)*num_feat])"
   ]
  },
  {
   "cell_type": "code",
   "execution_count": 111,
   "metadata": {},
   "outputs": [
    {
     "name": "stderr",
     "output_type": "stream",
     "text": [
      "100%|██████████| 36922/36922 [00:02<00:00, 16956.68it/s]\n"
     ]
    }
   ],
   "source": [
    "max_sentences = 250\n",
    "new_features = []\n",
    "for i in tqdm(features):\n",
    "    fvector = []\n",
    "    for j in range(3):\n",
    "        fvector.extend(i[j*num_feat:j*num_feat+max_sentences])\n",
    "    new_features.append(fvector)"
   ]
  },
  {
   "cell_type": "code",
   "execution_count": 112,
   "metadata": {},
   "outputs": [],
   "source": [
    "features = new_features"
   ]
  },
  {
   "cell_type": "code",
   "execution_count": 113,
   "metadata": {},
   "outputs": [
    {
     "data": {
      "text/plain": [
       "SimpleImputer(add_indicator=False, copy=True, fill_value=None,\n",
       "              missing_values=nan, strategy='mean', verbose=0)"
      ]
     },
     "execution_count": 113,
     "metadata": {},
     "output_type": "execute_result"
    }
   ],
   "source": [
    "from sklearn.impute import SimpleImputer\n",
    "import numpy as np\n",
    "imp = SimpleImputer(missing_values=np.nan, strategy='mean')\n",
    "imp.fit(features)"
   ]
  },
  {
   "cell_type": "code",
   "execution_count": 114,
   "metadata": {},
   "outputs": [],
   "source": [
    "from sklearn.preprocessing import label_binarize\n",
    "features = imp.transform(features)\n",
    "labels = label_binarize(labels, classes=[0, 1, 2])"
   ]
  },
  {
   "cell_type": "markdown",
   "metadata": {},
   "source": [
    "## Test data"
   ]
  },
  {
   "cell_type": "code",
   "execution_count": 119,
   "metadata": {},
   "outputs": [],
   "source": [
    "test_logprobs_file = 'finetuning-roberta/outputs_parameter_tuning/params1/test-truncated-finetuned-roberta-params1-logprobs'\n",
    "test_decision_file = 'finetuning-roberta/outputs_parameter_tuning/params1/test-truncated-finetuned-roberta-params1-results'\n",
    "test_index_file = 'data/fever/test-truncated.index'\n",
    "\n",
    "test_logprobs_fp = open(test_logprobs_file, \"r\")\n",
    "test_decision_fp = open(test_decision_file, \"r\")\n",
    "test_index_fp = open(test_index_file, \"r\")"
   ]
  },
  {
   "cell_type": "code",
   "execution_count": 120,
   "metadata": {},
   "outputs": [
    {
     "name": "stderr",
     "output_type": "stream",
     "text": [
      "100%|██████████| 1595235/1595235 [00:06<00:00, 261795.74it/s]\n"
     ]
    }
   ],
   "source": [
    "test_logprobs_hdr = test_logprobs_fp.readline()\n",
    "test_logprobs = []\n",
    "for output in tqdm(test_logprobs_fp.readlines()):\n",
    "    output = output.rstrip().split()\n",
    "    if len(output)==4:\n",
    "        probs = [float(output[1][1:]), float(output[2]), float(output[3][:-1])]\n",
    "    elif len(output)==5 and output[1]=='[':\n",
    "        probs = [float(output[2]), float(output[3]), float(output[4][:-1])]\n",
    "    elif len(output)==5 and output[4]==']':\n",
    "        probs = [float(output[1][1:]), float(output[2]), float(output[3])]\n",
    "    elif len(output)==6:\n",
    "        probs = [float(output[2]), float(output[3]), float(output[4])]\n",
    "    test_logprobs.append(probs)"
   ]
  },
  {
   "cell_type": "code",
   "execution_count": 121,
   "metadata": {},
   "outputs": [],
   "source": [
    "test_logprobs = pd.DataFrame(test_logprobs)"
   ]
  },
  {
   "cell_type": "code",
   "execution_count": 122,
   "metadata": {},
   "outputs": [
    {
     "name": "stderr",
     "output_type": "stream",
     "text": [
      "100%|██████████| 1595235/1595235 [00:04<00:00, 373196.15it/s]\n"
     ]
    }
   ],
   "source": [
    "test_index = []\n",
    "for output in tqdm(test_index_fp.readlines()):\n",
    "    output = output.rstrip().split()\n",
    "    test_index.append(output)\n",
    "test_index = pd.DataFrame(test_index)"
   ]
  },
  {
   "cell_type": "code",
   "execution_count": 123,
   "metadata": {},
   "outputs": [],
   "source": [
    "test_data = pd.concat([test_index, test_logprobs], axis=1, ignore_index=True)"
   ]
  },
  {
   "cell_type": "code",
   "execution_count": 124,
   "metadata": {},
   "outputs": [],
   "source": [
    "test_data = test_data.drop(1, 1)\n",
    "test_data = test_data.drop(2, 1)\n",
    "test_data = test_data.drop(3, 1)\n",
    "test_data.columns = ['ids', 'supports', 'neutral', 'refutes']"
   ]
  },
  {
   "cell_type": "code",
   "execution_count": 125,
   "metadata": {},
   "outputs": [],
   "source": [
    "test_data['claim_ids'] = test_data.groupby('ids').cumcount()\n",
    "test_result = test_data.pivot(index='ids', columns='claim_ids')\n",
    "test_supports = test_result['supports']\n",
    "test_refutes = test_result['refutes']\n",
    "test_neutral = test_result['neutral']\n",
    "\n",
    "#for i in range(int(test_result.shape[1]/3), test_result['supports'].shape[1], 1):\n",
    "#    test_supports = test_supports.drop(i, 1)\n",
    "#    test_refutes = test_refutes.drop(i, 1)\n",
    "#    test_neutral = test_neutral.drop(i, 1)"
   ]
  },
  {
   "cell_type": "code",
   "execution_count": 126,
   "metadata": {},
   "outputs": [],
   "source": [
    "test_features = pd.concat([test_supports, test_neutral, test_refutes], ignore_index=True, axis=1)"
   ]
  },
  {
   "cell_type": "code",
   "execution_count": 127,
   "metadata": {},
   "outputs": [
    {
     "name": "stderr",
     "output_type": "stream",
     "text": [
      "100%|██████████| 19998/19998 [00:00<00:00, 28810.40it/s]\n"
     ]
    }
   ],
   "source": [
    "num_feat = int(test_result.shape[1]/3)\n",
    "test_features = test_features.values\n",
    "for i in tqdm(range(len(test_features))):\n",
    "    for j in range(3):\n",
    "        test_features[i][j*num_feat:(j+1)*num_feat] = -np.sort(-test_features[i][j*num_feat:(j+1)*num_feat])"
   ]
  },
  {
   "cell_type": "code",
   "execution_count": 128,
   "metadata": {},
   "outputs": [
    {
     "name": "stderr",
     "output_type": "stream",
     "text": [
      "100%|██████████| 19998/19998 [00:01<00:00, 18351.83it/s]\n"
     ]
    }
   ],
   "source": [
    "x_test = []\n",
    "for i in tqdm(test_features):\n",
    "    fvector = []\n",
    "    for j in range(3):\n",
    "        fvector.extend(i[j*num_feat:j*num_feat+max_sentences])\n",
    "    x_test.append(fvector)"
   ]
  },
  {
   "cell_type": "code",
   "execution_count": 129,
   "metadata": {},
   "outputs": [],
   "source": [
    "x_test = imp.transform(x_test)"
   ]
  },
  {
   "cell_type": "markdown",
   "metadata": {},
   "source": [
    "## Neural Net"
   ]
  },
  {
   "cell_type": "code",
   "execution_count": 130,
   "metadata": {},
   "outputs": [],
   "source": [
    "import torch\n",
    "import torchvision\n",
    "import torchvision.transforms as transforms\n",
    "import math"
   ]
  },
  {
   "cell_type": "code",
   "execution_count": 131,
   "metadata": {},
   "outputs": [],
   "source": [
    "class FeedforwardBig(torch.nn.Module):\n",
    "    def __init__(self, input_size, hidden_size, output_size):\n",
    "        super(FeedforwardBig, self).__init__()\n",
    "        self.input_size = input_size\n",
    "        self.hidden_size  = hidden_size\n",
    "        self.output_size = output_size\n",
    "        self.dropout1 = torch.nn.Dropout(p=0.05)\n",
    "        self.dropout2 = torch.nn.Dropout(p=0.05)\n",
    "        self.fc1 = torch.nn.Linear(self.input_size, self.hidden_size[0])\n",
    "        self.relu = torch.nn.ReLU()\n",
    "        self.fc2 = torch.nn.Linear(self.hidden_size[0], self.hidden_size[1])\n",
    "        self.fc3 = torch.nn.Linear(self.hidden_size[1], self.hidden_size[2])\n",
    "        self.fc4 = torch.nn.Linear(self.hidden_size[2], self.hidden_size[3])\n",
    "        self.fc5 = torch.nn.Linear(self.hidden_size[3], self.output_size)\n",
    "        self.sigmoid = torch.nn.Sigmoid()\n",
    "        \n",
    "    def forward(self, x):\n",
    "        x = self.dropout1(x)\n",
    "        x = self.fc1(x)\n",
    "        x = self.relu(x)\n",
    "        x = self.dropout2(x)\n",
    "        x = self.fc2(x)\n",
    "        x = self.relu(x)\n",
    "        x = self.fc3(x)\n",
    "        x = self.relu(x)\n",
    "        x = self.fc4(x)\n",
    "        x = self.relu(x)\n",
    "        x = self.fc5(x)\n",
    "        output = self.sigmoid(x)\n",
    "        return output"
   ]
  },
  {
   "cell_type": "code",
   "execution_count": 132,
   "metadata": {},
   "outputs": [],
   "source": [
    "batch_size = 100\n",
    "input_size = max_sentences*3\n",
    "hidden_size = [250, 100, 25, 10]\n",
    "output_size = 3"
   ]
  },
  {
   "cell_type": "code",
   "execution_count": 40,
   "metadata": {},
   "outputs": [],
   "source": [
    "from sklearn.model_selection import train_test_split\n",
    "x_train, x_eval, y_train, y_eval = train_test_split(features, labels, test_size = 0.2, random_state = 42)"
   ]
  },
  {
   "cell_type": "code",
   "execution_count": 134,
   "metadata": {},
   "outputs": [],
   "source": [
    "x_train = train_x\n",
    "y_train = train_y\n",
    "x_eval = eval_x\n",
    "y_eval = eval_y"
   ]
  },
  {
   "cell_type": "code",
   "execution_count": 135,
   "metadata": {},
   "outputs": [
    {
     "name": "stderr",
     "output_type": "stream",
     "text": [
      "100%|██████████| 296/296 [00:01<00:00, 190.12it/s]\n",
      "100%|██████████| 74/74 [00:00<00:00, 240.43it/s]\n",
      "100%|██████████| 200/200 [00:00<00:00, 247.43it/s]\n"
     ]
    }
   ],
   "source": [
    "x_train_batches = []\n",
    "y_train_batches = []\n",
    "x_eval_batches = []\n",
    "y_eval_batches = []\n",
    "x_test_batches = []\n",
    "for i in tqdm(range(math.ceil(len(x_train)/batch_size))):\n",
    "    x_train_batches.append(torch.FloatTensor(x_train[i*batch_size:i*batch_size+batch_size]))\n",
    "    y_train_batches.append(torch.FloatTensor(y_train[i*batch_size:i*batch_size+batch_size]))\n",
    "for i in tqdm(range(math.ceil(len(x_eval)/batch_size))):\n",
    "    x_eval_batches.append(torch.FloatTensor(x_eval[i*batch_size:i*batch_size+batch_size]))\n",
    "    y_eval_batches.append(torch.FloatTensor(y_eval[i*batch_size:i*batch_size+batch_size]))\n",
    "for i in tqdm(range(math.ceil(len(x_test)/batch_size))):\n",
    "    x_test_batches.append(torch.FloatTensor(x_test[i*batch_size:i*batch_size+batch_size]))"
   ]
  },
  {
   "cell_type": "code",
   "execution_count": 136,
   "metadata": {},
   "outputs": [],
   "source": [
    "model = FeedforwardBig(input_size, hidden_size, output_size)\n",
    "criterion = torch.nn.BCELoss()\n",
    "optimizer = torch.optim.SGD(model.parameters(), lr = 0.01)"
   ]
  },
  {
   "cell_type": "code",
   "execution_count": 137,
   "metadata": {},
   "outputs": [
    {
     "name": "stdout",
     "output_type": "stream",
     "text": [
      "Evaluation loss before training 0.6767350435256958\n"
     ]
    }
   ],
   "source": [
    "model.eval()\n",
    "y_pred = model(x_eval_batches[0])\n",
    "before_train = criterion(y_pred.squeeze(), y_eval_batches[0])\n",
    "print('Evaluation loss before training' , before_train.item())"
   ]
  },
  {
   "cell_type": "code",
   "execution_count": 49,
   "metadata": {},
   "outputs": [],
   "source": [
    "for param_group in optimizer.param_groups:\n",
    "    param_group['lr'] = 0.001"
   ]
  },
  {
   "cell_type": "code",
   "execution_count": 138,
   "metadata": {},
   "outputs": [],
   "source": [
    "train_loss_evolution = []\n",
    "eval_loss_evolution = []"
   ]
  },
  {
   "cell_type": "code",
   "execution_count": 143,
   "metadata": {
    "scrolled": false
   },
   "outputs": [
    {
     "name": "stdout",
     "output_type": "stream",
     "text": [
      "Epoch: 0, Training Loss: 0.30981952203689395, Evalution Loss: 0.3037798018068881\n",
      "Epoch: 1, Training Loss: 0.3082953372819198, Evalution Loss: 0.3017291990486351\n",
      "Epoch: 2, Training Loss: 0.3093294611049665, Evalution Loss: 0.30228664041370956\n",
      "Epoch: 3, Training Loss: 0.30960534679124485, Evalution Loss: 0.2990713111452154\n",
      "Epoch: 4, Training Loss: 0.30911994403278503, Evalution Loss: 0.3080065246369388\n",
      "Epoch: 5, Training Loss: 0.30938282845592174, Evalution Loss: 0.3000736174148482\n",
      "Epoch: 6, Training Loss: 0.3089735582974312, Evalution Loss: 0.30927280356755127\n",
      "Epoch: 7, Training Loss: 0.30965415972310145, Evalution Loss: 0.30343422011749166\n",
      "Epoch: 8, Training Loss: 0.30868755265868997, Evalution Loss: 0.3040329385045412\n",
      "Epoch: 9, Training Loss: 0.30802295573458477, Evalution Loss: 0.29970034493787867\n",
      "Epoch: 10, Training Loss: 0.3092539325054433, Evalution Loss: 0.3069388149557887\n",
      "Epoch: 11, Training Loss: 0.30967218967507015, Evalution Loss: 0.3082209555683909\n",
      "Epoch: 12, Training Loss: 0.30933950977349606, Evalution Loss: 0.29972053742086563\n",
      "Epoch: 13, Training Loss: 0.30925888150326303, Evalution Loss: 0.3083343759581849\n",
      "Epoch: 14, Training Loss: 0.309142001526984, Evalution Loss: 0.31276047370723775\n",
      "Epoch: 15, Training Loss: 0.30944059703599763, Evalution Loss: 0.29813775984016627\n",
      "Epoch: 16, Training Loss: 0.30982214313101125, Evalution Loss: 0.30037265391768636\n",
      "Epoch: 17, Training Loss: 0.3096719581533123, Evalution Loss: 0.3106732672533473\n",
      "Epoch: 18, Training Loss: 0.30844182385182056, Evalution Loss: 0.3052126924331124\n",
      "Epoch: 19, Training Loss: 0.3092372228164931, Evalution Loss: 0.30158677334721024\n",
      "Epoch: 20, Training Loss: 0.3080849243781051, Evalution Loss: 0.30627117446950963\n",
      "Epoch: 21, Training Loss: 0.3089354399692368, Evalution Loss: 0.30821753212729014\n",
      "Epoch: 22, Training Loss: 0.3092219640777723, Evalution Loss: 0.30186228494386413\n",
      "Epoch: 23, Training Loss: 0.30759070436092645, Evalution Loss: 0.29998281678637945\n",
      "Epoch: 24, Training Loss: 0.3093812206911074, Evalution Loss: 0.2981533585367976\n",
      "Epoch: 25, Training Loss: 0.30810969584697, Evalution Loss: 0.2996048929320799\n",
      "Epoch: 26, Training Loss: 0.30811581851260084, Evalution Loss: 0.3080094438549635\n",
      "Epoch: 27, Training Loss: 0.3074811716136095, Evalution Loss: 0.3035191065959028\n",
      "Epoch: 28, Training Loss: 0.308136880951556, Evalution Loss: 0.31505300728855906\n",
      "Epoch: 29, Training Loss: 0.3093779054344506, Evalution Loss: 0.30247610223454396\n",
      "Epoch: 30, Training Loss: 0.3084416111075395, Evalution Loss: 0.29871882981545217\n",
      "Epoch: 31, Training Loss: 0.3090093074416792, Evalution Loss: 0.3025441320764052\n",
      "Epoch: 32, Training Loss: 0.3086230821303419, Evalution Loss: 0.3005140675483523\n",
      "Epoch: 33, Training Loss: 0.3085235847613296, Evalution Loss: 0.3045340331422316\n",
      "Epoch: 34, Training Loss: 0.30929076862899035, Evalution Loss: 0.30371847486979253\n",
      "Epoch: 35, Training Loss: 0.3078057125613496, Evalution Loss: 0.30215654884641235\n",
      "Epoch: 36, Training Loss: 0.30732736958039775, Evalution Loss: 0.2998344972729683\n",
      "Epoch: 37, Training Loss: 0.3088279552254322, Evalution Loss: 0.3007151418038317\n",
      "Epoch: 38, Training Loss: 0.30852652804271596, Evalution Loss: 0.30067418475408814\n",
      "Epoch: 39, Training Loss: 0.30856816148435745, Evalution Loss: 0.30158938245998845\n",
      "Epoch: 40, Training Loss: 0.3086610233562218, Evalution Loss: 0.30190310224487976\n",
      "Epoch: 41, Training Loss: 0.3080079460365547, Evalution Loss: 0.30308625645734166\n",
      "Epoch: 42, Training Loss: 0.30946033020075914, Evalution Loss: 0.3013065157307161\n",
      "Epoch: 43, Training Loss: 0.30920501219461094, Evalution Loss: 0.29902632816417796\n",
      "Epoch: 44, Training Loss: 0.3081658120090897, Evalution Loss: 0.3049364663861893\n",
      "Epoch: 45, Training Loss: 0.309532559854356, Evalution Loss: 0.2996096168015454\n",
      "Epoch: 46, Training Loss: 0.3076270056032651, Evalution Loss: 0.3048460060680235\n",
      "Epoch: 47, Training Loss: 0.30739417042885275, Evalution Loss: 0.30397045370694753\n",
      "Epoch: 48, Training Loss: 0.30793857700317295, Evalution Loss: 0.3089311980717891\n",
      "Epoch: 49, Training Loss: 0.3099344464371333, Evalution Loss: 0.30145308173991536\n",
      "Epoch: 50, Training Loss: 0.30865370869837905, Evalution Loss: 0.3041630516181121\n",
      "Epoch: 51, Training Loss: 0.3090017216431128, Evalution Loss: 0.3003286848197112\n",
      "Epoch: 52, Training Loss: 0.3084205200241224, Evalution Loss: 0.2992516897014669\n",
      "Epoch: 53, Training Loss: 0.30797548285005866, Evalution Loss: 0.3022203435366218\n",
      "Epoch: 54, Training Loss: 0.30923505288523595, Evalution Loss: 0.2993841612258473\n",
      "Epoch: 55, Training Loss: 0.3093167367215092, Evalution Loss: 0.30382799860593435\n",
      "Epoch: 56, Training Loss: 0.3087830068795262, Evalution Loss: 0.30575597568138224\n",
      "Epoch: 57, Training Loss: 0.3076395147253533, Evalution Loss: 0.30373208305320226\n",
      "Epoch: 58, Training Loss: 0.30965351232805766, Evalution Loss: 0.30337203757182973\n",
      "Epoch: 59, Training Loss: 0.3078691558660688, Evalution Loss: 0.3033118533927041\n",
      "Epoch: 60, Training Loss: 0.30820646026247256, Evalution Loss: 0.3106575302175573\n",
      "Epoch: 61, Training Loss: 0.3084541695645532, Evalution Loss: 0.299691458610264\n",
      "Epoch: 62, Training Loss: 0.30980432884314574, Evalution Loss: 0.303907223247193\n",
      "Epoch: 63, Training Loss: 0.3077515415041833, Evalution Loss: 0.30146473746847463\n",
      "Epoch: 64, Training Loss: 0.30821822055086895, Evalution Loss: 0.30112687236553914\n",
      "Epoch: 65, Training Loss: 0.3075406737625599, Evalution Loss: 0.30079133164238286\n",
      "Epoch: 66, Training Loss: 0.3094664783393209, Evalution Loss: 0.302255858642024\n",
      "Epoch: 67, Training Loss: 0.30818182466602, Evalution Loss: 0.30335734905423345\n",
      "Epoch: 68, Training Loss: 0.30910919068028797, Evalution Loss: 0.3044920513356054\n",
      "Epoch: 69, Training Loss: 0.3081995932435667, Evalution Loss: 0.3032573171564051\n",
      "Epoch: 70, Training Loss: 0.3075125669506756, Evalution Loss: 0.3011844258856129\n",
      "Epoch: 71, Training Loss: 0.30844099567951383, Evalution Loss: 0.30093923936019074\n",
      "Epoch: 72, Training Loss: 0.30760581907186957, Evalution Loss: 0.30138862193436233\n",
      "Epoch: 73, Training Loss: 0.30879837168833696, Evalution Loss: 0.30300558660481425\n",
      "Epoch: 74, Training Loss: 0.3076587560007701, Evalution Loss: 0.3025151513315536\n",
      "Epoch: 75, Training Loss: 0.3074240891413914, Evalution Loss: 0.30574433928405914\n",
      "Epoch: 76, Training Loss: 0.3080954764139008, Evalution Loss: 0.2993608529906015\n",
      "Epoch: 77, Training Loss: 0.30843035494153564, Evalution Loss: 0.3026859007171682\n",
      "Epoch: 78, Training Loss: 0.3072555944122173, Evalution Loss: 0.2993157193870158\n",
      "Epoch: 79, Training Loss: 0.30679465050028787, Evalution Loss: 0.3050288874152544\n",
      "Epoch: 80, Training Loss: 0.30862827085562655, Evalution Loss: 0.3030364906062951\n",
      "Epoch: 81, Training Loss: 0.3085399202599719, Evalution Loss: 0.3041994865681674\n",
      "Epoch: 82, Training Loss: 0.30706826300435774, Evalution Loss: 0.31100491615566045\n",
      "Epoch: 83, Training Loss: 0.3072405285831239, Evalution Loss: 0.3033836526242462\n",
      "Epoch: 84, Training Loss: 0.30907692488383604, Evalution Loss: 0.3049464793624105\n",
      "Epoch: 85, Training Loss: 0.3065257733939467, Evalution Loss: 0.3034166254707285\n",
      "Epoch: 86, Training Loss: 0.30684993662745563, Evalution Loss: 0.3021604672477052\n",
      "Epoch: 87, Training Loss: 0.30715329295678717, Evalution Loss: 0.30390872202209523\n",
      "Epoch: 88, Training Loss: 0.3080648183319214, Evalution Loss: 0.3077562572182836\n",
      "Epoch: 89, Training Loss: 0.3074108047561871, Evalution Loss: 0.30306145266906637\n",
      "Epoch: 90, Training Loss: 0.3074483648949378, Evalution Loss: 0.30364414666955536\n",
      "Epoch: 91, Training Loss: 0.30684752163250706, Evalution Loss: 0.31069357250187846\n",
      "Epoch: 92, Training Loss: 0.3083853611873614, Evalution Loss: 0.3014718274006972\n",
      "Epoch: 93, Training Loss: 0.30890586549365845, Evalution Loss: 0.3015742120710579\n",
      "Epoch: 94, Training Loss: 0.3084363724935699, Evalution Loss: 0.3096940386536959\n",
      "Epoch: 95, Training Loss: 0.3075149378462418, Evalution Loss: 0.29899694810847977\n",
      "Epoch: 96, Training Loss: 0.30792982871266633, Evalution Loss: 0.3038436383814425\n",
      "Epoch: 97, Training Loss: 0.3088375602320239, Evalution Loss: 0.298567682907388\n",
      "Epoch: 98, Training Loss: 0.30548382364213467, Evalution Loss: 0.30031950993312373\n",
      "Epoch: 99, Training Loss: 0.30695843278757623, Evalution Loss: 0.3045970408900364\n",
      "Epoch: 100, Training Loss: 0.3079667197087327, Evalution Loss: 0.299054587612281\n"
     ]
    },
    {
     "name": "stdout",
     "output_type": "stream",
     "text": [
      "Epoch: 101, Training Loss: 0.3073880202766206, Evalution Loss: 0.2988902906308303\n",
      "Epoch: 102, Training Loss: 0.3088464158511645, Evalution Loss: 0.30282011648287643\n",
      "Epoch: 103, Training Loss: 0.3076223413384444, Evalution Loss: 0.30016449919423543\n",
      "Epoch: 104, Training Loss: 0.3079866375774145, Evalution Loss: 0.3019643508501955\n",
      "Epoch: 105, Training Loss: 0.30878466564054424, Evalution Loss: 0.2990952410005234\n",
      "Epoch: 106, Training Loss: 0.308855914838008, Evalution Loss: 0.3029301931729188\n",
      "Epoch: 107, Training Loss: 0.3087393427015962, Evalution Loss: 0.302045328995666\n",
      "Epoch: 108, Training Loss: 0.30820593912456484, Evalution Loss: 0.3028161306236241\n",
      "Epoch: 109, Training Loss: 0.30892428559427326, Evalution Loss: 0.3092796639413447\n",
      "Epoch: 110, Training Loss: 0.3072126116603613, Evalution Loss: 0.3028332578974801\n",
      "Epoch: 111, Training Loss: 0.3076229968888534, Evalution Loss: 0.30050078195494573\n",
      "Epoch: 112, Training Loss: 0.30667489827484695, Evalution Loss: 0.3028272819277403\n",
      "Epoch: 113, Training Loss: 0.3081877445550384, Evalution Loss: 0.300347439340643\n",
      "Epoch: 114, Training Loss: 0.30865034687559345, Evalution Loss: 0.30006188275040807\n",
      "Epoch: 115, Training Loss: 0.3071454203108678, Evalution Loss: 0.3039735944287197\n",
      "Epoch: 116, Training Loss: 0.3083197801197703, Evalution Loss: 0.30245258236253586\n",
      "Epoch: 117, Training Loss: 0.3074463220766267, Evalution Loss: 0.3083373402824273\n",
      "Epoch: 118, Training Loss: 0.30731866216740095, Evalution Loss: 0.304105123353971\n",
      "Epoch: 119, Training Loss: 0.3062806542258005, Evalution Loss: 0.3051670155412442\n",
      "Epoch: 120, Training Loss: 0.306918315790795, Evalution Loss: 0.30432059052022725\n",
      "Epoch: 121, Training Loss: 0.30767254324982296, Evalution Loss: 0.29839069376120697\n",
      "Epoch: 122, Training Loss: 0.30790336868046103, Evalution Loss: 0.30016458235882426\n",
      "Epoch: 123, Training Loss: 0.3062365801652541, Evalution Loss: 0.2996187024825328\n",
      "Epoch: 124, Training Loss: 0.3066601264919784, Evalution Loss: 0.3008288394760441\n",
      "Epoch: 125, Training Loss: 0.30754160901179184, Evalution Loss: 0.30645167424872116\n",
      "Epoch: 126, Training Loss: 0.30705559399683735, Evalution Loss: 0.3079240050267529\n",
      "Epoch: 127, Training Loss: 0.30631155284071293, Evalution Loss: 0.3161222004407161\n",
      "Epoch: 128, Training Loss: 0.3071529488205104, Evalution Loss: 0.30196677450392695\n",
      "Epoch: 129, Training Loss: 0.3068284479448119, Evalution Loss: 0.2999122217297554\n",
      "Epoch: 130, Training Loss: 0.3080289883891473, Evalution Loss: 0.2990206381356394\n",
      "Epoch: 131, Training Loss: 0.3071148602442967, Evalution Loss: 0.3016264631941512\n",
      "Epoch: 132, Training Loss: 0.3068942938604065, Evalution Loss: 0.30164190442175476\n",
      "Epoch: 133, Training Loss: 0.30683798232191317, Evalution Loss: 0.30019404054493515\n",
      "Epoch: 134, Training Loss: 0.3079836099232371, Evalution Loss: 0.3000175840145833\n",
      "Epoch: 135, Training Loss: 0.3083182608557714, Evalution Loss: 0.300844347154772\n",
      "Epoch: 136, Training Loss: 0.30632293199163835, Evalution Loss: 0.3040653096662985\n",
      "Epoch: 137, Training Loss: 0.307455920438106, Evalution Loss: 0.29989118330382014\n",
      "Epoch: 138, Training Loss: 0.30614714158346523, Evalution Loss: 0.30044606911974986\n",
      "Epoch: 139, Training Loss: 0.3069843719335827, Evalution Loss: 0.3014542752423802\n",
      "Epoch: 140, Training Loss: 0.3069465938653495, Evalution Loss: 0.30199752164048116\n",
      "Epoch: 141, Training Loss: 0.3085344555108128, Evalution Loss: 0.30621729388430313\n",
      "Epoch: 142, Training Loss: 0.3078750219397448, Evalution Loss: 0.301106016579512\n",
      "Epoch: 143, Training Loss: 0.3075256215257419, Evalution Loss: 0.3034915585775633\n",
      "Epoch: 144, Training Loss: 0.30526673204794125, Evalution Loss: 0.30117499606834874\n",
      "Epoch: 145, Training Loss: 0.30931512845327724, Evalution Loss: 0.298056082951056\n",
      "Epoch: 146, Training Loss: 0.30621540244366674, Evalution Loss: 0.29946290278756943\n",
      "Epoch: 147, Training Loss: 0.30708245097382647, Evalution Loss: 0.2994796986112723\n",
      "Epoch: 148, Training Loss: 0.3069628649768797, Evalution Loss: 0.2992855219824894\n",
      "Epoch: 149, Training Loss: 0.306551497278584, Evalution Loss: 0.30627908980524216\n",
      "Epoch: 150, Training Loss: 0.30768547378279065, Evalution Loss: 0.301278050485495\n",
      "Epoch: 151, Training Loss: 0.3063209602055517, Evalution Loss: 0.3013870321415566\n",
      "Epoch: 152, Training Loss: 0.307410981556451, Evalution Loss: 0.3003619049449225\n",
      "Epoch: 153, Training Loss: 0.307376090185465, Evalution Loss: 0.30024747973358307\n",
      "Epoch: 154, Training Loss: 0.30668861861969976, Evalution Loss: 0.30167485390966003\n",
      "Epoch: 155, Training Loss: 0.3064605022805768, Evalution Loss: 0.3018716382416519\n",
      "Epoch: 156, Training Loss: 0.3052932463485647, Evalution Loss: 0.305086239366918\n",
      "Epoch: 157, Training Loss: 0.30755417381186745, Evalution Loss: 0.30056304988023397\n",
      "Epoch: 158, Training Loss: 0.30649499257875457, Evalution Loss: 0.3012979052759506\n",
      "Epoch: 159, Training Loss: 0.3067728573003331, Evalution Loss: 0.30027009123885956\n",
      "Epoch: 160, Training Loss: 0.30586807414687966, Evalution Loss: 0.3036755345560409\n",
      "Epoch: 161, Training Loss: 0.30654775668439027, Evalution Loss: 0.30191060417407267\n",
      "Epoch: 162, Training Loss: 0.3073742545234996, Evalution Loss: 0.30007743130664566\n",
      "Epoch: 163, Training Loss: 0.30760704086640395, Evalution Loss: 0.30182874021497935\n",
      "Epoch: 164, Training Loss: 0.30730087793356664, Evalution Loss: 0.30094685284672557\n",
      "Epoch: 165, Training Loss: 0.306964489807551, Evalution Loss: 0.3021457551701649\n",
      "Epoch: 166, Training Loss: 0.306745181866997, Evalution Loss: 0.30120252495681915\n",
      "Epoch: 167, Training Loss: 0.3081652299073097, Evalution Loss: 0.3045589301634479\n",
      "Epoch: 168, Training Loss: 0.3080039977825977, Evalution Loss: 0.3027238725004969\n",
      "Epoch: 169, Training Loss: 0.3068203295304163, Evalution Loss: 0.3010292826472102\n",
      "Epoch: 170, Training Loss: 0.3068899247493293, Evalution Loss: 0.29956883373292714\n",
      "Epoch: 171, Training Loss: 0.30763019837841793, Evalution Loss: 0.3097370283023731\n",
      "Epoch: 172, Training Loss: 0.3069424534065498, Evalution Loss: 0.3013658106729791\n",
      "Epoch: 173, Training Loss: 0.3059282204690012, Evalution Loss: 0.3019468633306993\n",
      "Epoch: 174, Training Loss: 0.3059191982689741, Evalution Loss: 0.30209089654522975\n",
      "Epoch: 175, Training Loss: 0.3052585598182034, Evalution Loss: 0.3081452582736273\n",
      "Epoch: 176, Training Loss: 0.30760229237981745, Evalution Loss: 0.2997893231946069\n",
      "Epoch: 177, Training Loss: 0.3076020752054614, Evalution Loss: 0.3041596728804949\n",
      "Epoch: 178, Training Loss: 0.30588778415443124, Evalution Loss: 0.3142104928155203\n",
      "Epoch: 179, Training Loss: 0.3067502715196964, Evalution Loss: 0.3012343085295445\n",
      "Epoch: 180, Training Loss: 0.30696059501654394, Evalution Loss: 0.3009599707013852\n",
      "Epoch: 181, Training Loss: 0.30713327878431695, Evalution Loss: 0.301114559173584\n",
      "Epoch: 182, Training Loss: 0.30597627198172583, Evalution Loss: 0.3096429099505012\n",
      "Epoch: 183, Training Loss: 0.30740296156019775, Evalution Loss: 0.3001453596595171\n",
      "Epoch: 184, Training Loss: 0.3060843851920721, Evalution Loss: 0.3020960229474145\n",
      "Epoch: 185, Training Loss: 0.30721027514821775, Evalution Loss: 0.31067550162205826\n",
      "Epoch: 186, Training Loss: 0.3072175124307742, Evalution Loss: 0.3013723083847278\n",
      "Epoch: 187, Training Loss: 0.30651298417030154, Evalution Loss: 0.29922007749209534\n",
      "Epoch: 188, Training Loss: 0.3059693818559518, Evalution Loss: 0.30067356393949407\n",
      "Epoch: 189, Training Loss: 0.3062589300947415, Evalution Loss: 0.3034575585577939\n",
      "Epoch: 190, Training Loss: 0.3054004256689065, Evalution Loss: 0.3055954118435447\n",
      "Epoch: 191, Training Loss: 0.3076674246506111, Evalution Loss: 0.29883733049437805\n",
      "Epoch: 192, Training Loss: 0.3057283772205984, Evalution Loss: 0.29651897944308614\n",
      "Epoch: 193, Training Loss: 0.3067194958393638, Evalution Loss: 0.3048835362534265\n",
      "Epoch: 194, Training Loss: 0.30694436397705527, Evalution Loss: 0.2985807016894624\n",
      "Epoch: 195, Training Loss: 0.3054184421292833, Evalution Loss: 0.2989145515335573\n",
      "Epoch: 196, Training Loss: 0.3076802847051137, Evalution Loss: 0.3030433900452949\n",
      "Epoch: 197, Training Loss: 0.30596087732025096, Evalution Loss: 0.29945968474085266\n",
      "Epoch: 198, Training Loss: 0.30806497363625346, Evalution Loss: 0.302873950552296\n",
      "Epoch: 199, Training Loss: 0.30690158677060864, Evalution Loss: 0.31302168985476364\n"
     ]
    }
   ],
   "source": [
    "for epoch in range(200):\n",
    "    model.train()\n",
    "    train_loss = []\n",
    "    for i in range(len(x_train_batches)):\n",
    "        optimizer.zero_grad()\n",
    "        # Forward pass\n",
    "        y_pred = model(x_train_batches[i])\n",
    "        # Compute Los\n",
    "        loss = criterion(y_pred.squeeze(), y_train_batches[i])\n",
    "        \n",
    "        train_loss.append(loss.item())\n",
    "        # Backward pass\n",
    "        loss.backward()\n",
    "        optimizer.step()\n",
    "    \n",
    "    model.eval()\n",
    "    eval_loss = []\n",
    "    for i in range(len(x_eval_batches)):\n",
    "        y_pred = model(x_eval_batches[i])\n",
    "        after_train = criterion(y_pred.squeeze(), y_eval_batches[i])\n",
    "        eval_loss.append(after_train.item())\n",
    "    print('Epoch: {}, Training Loss: {}, Evalution Loss: {}'.format(epoch, np.mean(train_loss), np.mean(eval_loss)))\n",
    "    train_loss_evolution.append(np.mean(train_loss))\n",
    "    eval_loss_evolution.append(np.mean(eval_loss))"
   ]
  },
  {
   "cell_type": "code",
   "execution_count": 144,
   "metadata": {},
   "outputs": [],
   "source": [
    "import matplotlib.pyplot as plt\n",
    "%matplotlib inline"
   ]
  },
  {
   "cell_type": "code",
   "execution_count": 147,
   "metadata": {},
   "outputs": [
    {
     "data": {
      "image/png": "[encoded data removed]",
      "text/plain": [
       "<Figure size 432x288 with 1 Axes>"
      ]
     },
     "metadata": {
      "needs_background": "light"
     },
     "output_type": "display_data"
    }
   ],
   "source": [
    "plt.plot(range(len(train_loss_evolution)), train_loss_evolution)\n",
    "plt.plot(range(len(train_loss_evolution)), eval_loss_evolution)\n",
    "plt.xlabel('Epoch')\n",
    "plt.yscale('log')\n",
    "plt.xscale('log')\n",
    "plt.ylabel('Binary Cross Entropy Loss')\n",
    "plt.legend(['Training Loss', 'Evalutaion Loss'])\n",
    "plt.rcParams.update({'font.size': 20})\n",
    "plt.savefig('/home/miproj/4thyr.oct2019/jp730/fever2018/figures/NN-original-training-curve.png', dpi=200, bbox_inches='tight')"
   ]
  },
  {
   "cell_type": "code",
   "execution_count": 57,
   "metadata": {},
   "outputs": [],
   "source": [
    "model.eval()\n",
    "predictions = []\n",
    "for i in range(len(x_test_batches)):\n",
    "    y_pred = model(x_test_batches[i])\n",
    "    predictions.append(y_pred)"
   ]
  },
  {
   "cell_type": "code",
   "execution_count": 58,
   "metadata": {},
   "outputs": [
    {
     "name": "stderr",
     "output_type": "stream",
     "text": [
      "100%|██████████| 200/200 [00:00<00:00, 4722.36it/s]\n"
     ]
    }
   ],
   "source": [
    "probs = []\n",
    "labels = []\n",
    "for batch in tqdm(predictions):\n",
    "    values, idxs = batch.max(1)\n",
    "    probs = probs + values.tolist()\n",
    "    labels = labels + idxs.tolist()"
   ]
  },
  {
   "cell_type": "code",
   "execution_count": 59,
   "metadata": {},
   "outputs": [],
   "source": [
    "ff_file = pd.concat([pd.DataFrame(test_result.index), pd.DataFrame(labels)], axis=1)"
   ]
  },
  {
   "cell_type": "code",
   "execution_count": 60,
   "metadata": {},
   "outputs": [],
   "source": [
    "ff_file.to_csv('data/fever/old_roberta_for_figure', header=False, index=False)"
   ]
  },
  {
   "cell_type": "code",
   "execution_count": 148,
   "metadata": {},
   "outputs": [],
   "source": [
    "model.eval()\n",
    "predictions = []\n",
    "for i in range(len(x_eval_batches)):\n",
    "    y_pred = model(x_eval_batches[i])\n",
    "    predictions.append(y_pred)"
   ]
  },
  {
   "cell_type": "code",
   "execution_count": 149,
   "metadata": {},
   "outputs": [
    {
     "name": "stderr",
     "output_type": "stream",
     "text": [
      "100%|██████████| 74/74 [00:00<00:00, 4573.47it/s]\n",
      "100%|██████████| 74/74 [00:00<00:00, 112.03it/s]\n"
     ]
    }
   ],
   "source": [
    "probs = []\n",
    "for batch in tqdm(predictions):\n",
    "    probs.extend(batch.tolist())\n",
    "\n",
    "labels = []\n",
    "for batch in tqdm(predictions):\n",
    "    values, idxs = batch.max(1)\n",
    "    labels = labels + idxs.tolist()"
   ]
  },
  {
   "cell_type": "code",
   "execution_count": 151,
   "metadata": {},
   "outputs": [
    {
     "name": "stdout",
     "output_type": "stream",
     "text": [
      "Accuracy 0.7975626269465133\n"
     ]
    },
    {
     "data": {
      "image/png": "[encoded data removed]",
      "text/plain": [
       "<Figure size 432x288 with 1 Axes>"
      ]
     },
     "metadata": {
      "needs_background": "light"
     },
     "output_type": "display_data"
    },
    {
     "data": {
      "text/plain": [
       "<Figure size 432x288 with 0 Axes>"
      ]
     },
     "metadata": {},
     "output_type": "display_data"
    },
    {
     "data": {
      "image/png": "[encoded data removed]",
      "text/plain": [
       "<Figure size 432x288 with 1 Axes>"
      ]
     },
     "metadata": {
      "needs_background": "light"
     },
     "output_type": "display_data"
    },
    {
     "data": {
      "text/plain": [
       "<Figure size 432x288 with 0 Axes>"
      ]
     },
     "metadata": {},
     "output_type": "display_data"
    },
    {
     "data": {
      "image/png": "[encoded data removed]",
      "text/plain": [
       "<Figure size 432x288 with 1 Axes>"
      ]
     },
     "metadata": {
      "needs_background": "light"
     },
     "output_type": "display_data"
    },
    {
     "data": {
      "text/plain": [
       "<Figure size 432x288 with 0 Axes>"
      ]
     },
     "metadata": {},
     "output_type": "display_data"
    }
   ],
   "source": [
    "from sklearn.metrics import roc_curve, auc, accuracy_score\n",
    "plt.rcParams.update({'font.size': 12})\n",
    "\n",
    "n_classes = 3\n",
    "fpr_mlp = dict()\n",
    "tpr_mlp = dict()\n",
    "roc_auc_mlp = dict()\n",
    "for i in range(n_classes):\n",
    "    fpr_mlp[i], tpr_mlp[i], _ = roc_curve(y_eval[:, i], [x[i] for x in probs])\n",
    "    roc_auc_mlp[i] = auc(fpr_mlp[i], tpr_mlp[i])\n",
    "\n",
    "eval_y = [x.tolist().index(1) for x in y_eval]\n",
    "print(\"Accuracy\", accuracy_score(eval_y, labels))\n",
    "# Plot of a ROC curve for a specific class\n",
    "classes = ['SUPPORTS', 'NOT ENOUGH INFO', 'REFUTES']\n",
    "for i in [0, 2, 1]:\n",
    "    plt.figure()\n",
    "    plt.plot(fpr_mlp[i], tpr_mlp[i], label='ROC curve (area = %0.2f)' % roc_auc_mlp[i])\n",
    "    plt.plot([0, 1], [0, 1], 'k--')\n",
    "    plt.xlim([0.0, 1.0])\n",
    "    plt.ylim([0.0, 1.05])\n",
    "    plt.xlabel('False Positive Rate')\n",
    "    plt.ylabel('True Positive Rate')\n",
    "    plt.title('Receiver operating characteristic {}'.format(classes[i]))\n",
    "    plt.legend(loc=\"lower right\")\n",
    "    plt.show()\n",
    "    plt.savefig('/home/miproj/4thyr.oct2019/jp730/fever2018/figures/NN-ROC-'+str(classes[i]), dpi=200, bbox_inches='tight')"
   ]
  },
  {
   "cell_type": "code",
   "execution_count": 152,
   "metadata": {},
   "outputs": [],
   "source": [
    "pred_data = pd.read_json('data/fever/train-papelo-predictions', lines=True)\n",
    "true_data = pd.read_json('data/fever-data/train.jsonl', lines=True)"
   ]
  },
  {
   "cell_type": "code",
   "execution_count": 153,
   "metadata": {},
   "outputs": [],
   "source": [
    "def change_label(label):\n",
    "    if label=='REFUTES':\n",
    "        return 0\n",
    "    elif label=='SUPPORTS':\n",
    "        return 1\n",
    "    else:\n",
    "        return 2"
   ]
  },
  {
   "cell_type": "code",
   "execution_count": 154,
   "metadata": {},
   "outputs": [],
   "source": [
    "pred_y = pred_data['predicted_label'].apply(change_label).tolist()\n",
    "test_y = true_data['label'].apply(change_label).tolist()\n",
    "pred_y = label_binarize(pred_y, classes=[0, 1, 2])\n",
    "test_y = label_binarize(test_y, classes=[0, 1, 2])"
   ]
  },
  {
   "cell_type": "code",
   "execution_count": 156,
   "metadata": {},
   "outputs": [
    {
     "name": "stdout",
     "output_type": "stream",
     "text": [
      "Accuracy 0.657041299699551\n"
     ]
    },
    {
     "data": {
      "image/png": "[encoded data removed]",
      "text/plain": [
       "<Figure size 432x288 with 1 Axes>"
      ]
     },
     "metadata": {
      "needs_background": "light"
     },
     "output_type": "display_data"
    },
    {
     "data": {
      "image/png": "[encoded data removed]",
      "text/plain": [
       "<Figure size 432x288 with 1 Axes>"
      ]
     },
     "metadata": {
      "needs_background": "light"
     },
     "output_type": "display_data"
    },
    {
     "data": {
      "image/png": "[encoded data removed]",
      "text/plain": [
       "<Figure size 432x288 with 1 Axes>"
      ]
     },
     "metadata": {
      "needs_background": "light"
     },
     "output_type": "display_data"
    }
   ],
   "source": [
    "from sklearn.metrics import roc_curve, auc\n",
    "\n",
    "n_classes = 3\n",
    "fpr_papelo = dict()\n",
    "tpr_papelo = dict()\n",
    "roc_auc_papelo = dict()\n",
    "for i in range(n_classes):\n",
    "    fpr_papelo[i], tpr_papelo[i], _ = roc_curve(test_y[:, i], pred_y[:, i])\n",
    "    roc_auc_papelo[i] = auc(fpr_papelo[i], tpr_papelo[i])\n",
    "\n",
    "print(\"Accuracy\", metrics.accuracy_score(test_y, pred_y))\n",
    "# Plot of a ROC curve for a specific class\n",
    "classes = ['REFUTES', 'SUPPORTS', 'NOT ENOUGH INFO']\n",
    "for i in range(n_classes):\n",
    "    plt.figure()\n",
    "    plt.plot(fpr_papelo[i], tpr_papelo[i], '--o', label='ROC curve (area = %0.2f)' % roc_auc_papelo[i])\n",
    "    plt.plot([0, 1], [0, 1], 'k--')\n",
    "    plt.xlim([0.0, 1.0])\n",
    "    plt.ylim([0.0, 1.05])\n",
    "    plt.xlabel('False Positive Rate')\n",
    "    plt.ylabel('True Positive Rate')\n",
    "    plt.title('Receiver operating characteristic {}'.format(classes[i]))\n",
    "    plt.show()"
   ]
  },
  {
   "cell_type": "code",
   "execution_count": 191,
   "metadata": {},
   "outputs": [
    {
     "data": {
      "image/png": "[encoded data removed]",
      "text/plain": [
       "<Figure size 864x720 with 9 Axes>"
      ]
     },
     "metadata": {},
     "output_type": "display_data"
    }
   ],
   "source": [
    "plt.style.use('seaborn-whitegrid')\n",
    "fig, ax = plt.subplots(3, 3, figsize=(12, 10), sharex=True)\n",
    "plt.rcParams.update({'font.size': 16})\n",
    "ax[0][0].plot(fpr_papelo[0], tpr_papelo[0], '--o', label='ROC curve (area = %0.2f)' % roc_auc_papelo[0])\n",
    "ax[0][0].plot([0, 1], [0, 1], 'k--')\n",
    "ax[0][0].set_xlim([0.0, 1.0])\n",
    "ax[0][0].set_ylim([-0.1, 1.05])\n",
    "ax[0][1].plot(fpr_papelo[2], tpr_papelo[2], '--o', label='ROC curve (area = %0.2f)' % roc_auc_papelo[2])\n",
    "ax[0][1].plot([0, 1], [0, 1], 'k--')\n",
    "ax[0][1].set_xlim([0.0, 1.0])\n",
    "ax[0][1].set_ylim([-0.1, 1.05])\n",
    "ax[0][2].plot(fpr_papelo[1], tpr_papelo[1], '--o', label='ROC curve (area = %0.2f)' % roc_auc_papelo[1])\n",
    "ax[0][2].plot([0, 1], [0, 1], 'k--')\n",
    "ax[0][2].set_xlim([0.0, 1.0])\n",
    "ax[0][2].set_ylim([-0.1, 1.05])\n",
    "\n",
    "for i in range(3):\n",
    "    ax[1][i].plot(fpr_rf[i], tpr_rf[i], label='AUC = %0.3f' % roc_auc_rf[i])\n",
    "    ax[1][i].plot([0, 1], [0, 1], 'k--')\n",
    "    ax[1][i].set_xlim([0.0, 1.0])\n",
    "    ax[1][i].set_ylim([-0.1, 1.05])\n",
    "    ax[1][i].legend(loc=\"lower right\", handlelength=0, handletextpad=0, fancybox=True, frameon=True)\n",
    "\n",
    "for i in range(3):\n",
    "    ax[2][i].plot(fpr_mlp[i], tpr_mlp[i], label='AUC = %0.3f' % roc_auc_mlp[i])\n",
    "    ax[2][i].plot([0, 1], [0, 1], 'k--')\n",
    "    ax[2][i].set_xlim([0.0, 1.0])\n",
    "    ax[2][i].set_ylim([-0.1, 1.05])\n",
    "    ax[2][i].legend(loc=\"lower right\", handlelength=0, handletextpad=0, fancybox=True, frameon=True)\n",
    "    \n",
    "\n",
    "for a in ax.flat:\n",
    "    a.label_outer()\n",
    "ax[0][0].set_ylabel('Rule-based')\n",
    "ax[1][0].set_ylabel('Random Forest')\n",
    "ax[2][0].set_ylabel('Multi-layer Perceptron')\n",
    "ax[2][0].set_xlabel('SUPPORTS')\n",
    "ax[2][1].set_xlabel('NOT ENOUGH INFO')\n",
    "ax[2][2].set_xlabel('REFUTES')\n",
    "fig.text(-0.04, 0.5, 'True Positive Rate', ha='center', va='center', rotation='vertical', size=20)\n",
    "fig.text(0.5, -0.04, 'False Positive Rate', ha='center', size=20)\n",
    "plt.tight_layout()\n",
    "plt.savefig('test.png', bbox_inches='tight', dpi=250)"
   ]
  }
 ],
 "metadata": {
  "kernelspec": {
   "display_name": "Python 3",
   "language": "python",
   "name": "python3"
  },
  "language_info": {
   "codemirror_mode": {
    "name": "ipython",
    "version": 3
   },
   "file_extension": ".py",
   "mimetype": "text/x-python",
   "name": "python",
   "nbconvert_exporter": "python",
   "pygments_lexer": "ipython3",
   "version": "3.6.9"
  }
 },
 "nbformat": 4,
 "nbformat_minor": 2
}
